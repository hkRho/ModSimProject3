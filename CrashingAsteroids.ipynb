{
 "cells": [
  {
   "cell_type": "markdown",
   "metadata": {},
   "source": [
    "# Asteroid Impact on the Spin of the Earth\n",
    "ModSim Project 3\n",
    "\n",
    "Kristtiya Guerra, HK Rho"
   ]
  },
  {
   "cell_type": "code",
   "execution_count": 1,
   "metadata": {},
   "outputs": [],
   "source": [
    "# Configure Jupyter so figures appear in the notebook\n",
    "%matplotlib inline\n",
    "\n",
    "# Configure Jupyter to display the assigned value after an assignment\n",
    "%config InteractiveShell.ast_node_interactivity='last_expr_or_assign'\n",
    "\n",
    "# import functions from the modsim library\n",
    "from modsim import *\n",
    "import random\n",
    "import decimal\n",
    "import math"
   ]
  },
  {
   "cell_type": "code",
   "execution_count": 2,
   "metadata": {},
   "outputs": [],
   "source": [
    "# Here are the units we will be using in our project.\n",
    "\n",
    "s = UNITS.second\n",
    "N = UNITS.newton\n",
    "kg = UNITS.kilogram\n",
    "m = UNITS.meter\n",
    "d = UNITS.degrees\n",
    "rad = UNITS.radians;"
   ]
  },
  {
   "cell_type": "markdown",
   "metadata": {},
   "source": [
    "## The Question:\n",
    "We wanted to determine the effect that an asteroid impact would have on the time it takes the Earth to make one complete rotation. This is important as we would be able to determine how an asteroid impacts the Earth's rotation. Earth currently rotates due to events in the past that impacted on the Earth. It has retained its rotation rate due to Earth being in space and no other outside forces to affect it so if an asteroid were to impact, it would have a long-lasting affect on the Earth's rotation for a long time until another impact or event occurs.\n",
    "\n",
    "Our question and model went through a few iterations, however we finally landed onto how the horizontal impact would affect the Earth's rotation."
   ]
  },
  {
   "cell_type": "markdown",
   "metadata": {},
   "source": [
    "## Model 1: The Approach of the Asteroid\n",
    "This section of the model shows the approach of the asteroid until it collides to the Earth's surface. It determines the final velocity the asteroid has as it makes impact to the Earth.\n",
    "\n",
    "The State objects were created, mainly focusing on the position and initial velocity of the asteroid. The Earth is positioned at the origin, and the asteroid is approaching from the east, which is why we made its position in the postive direction and the velocity is negative.\n",
    "\n",
    "We chose -25,000 m/s as that is the average speed of an asteroid. The model will adjust the speed based on the influence of the Earth's gravitational pull (which also varies based on the mass of the asteroid).\n",
    "\n",
    "Thus, when determining the y position that the asteroid has to start off to strike Earth at the desired angle(45 degrees in this case right now), the function y_dependingOn_angle was used. The function simply rearranges the Pythagorean theorem to calculate the y position."
   ]
  },
  {
   "cell_type": "code",
   "execution_count": 3,
   "metadata": {},
   "outputs": [
    {
     "data": {
      "text/html": [
       "<div>\n",
       "<style scoped>\n",
       "    .dataframe tbody tr th:only-of-type {\n",
       "        vertical-align: middle;\n",
       "    }\n",
       "\n",
       "    .dataframe tbody tr th {\n",
       "        vertical-align: top;\n",
       "    }\n",
       "\n",
       "    .dataframe thead th {\n",
       "        text-align: right;\n",
       "    }\n",
       "</style>\n",
       "<table border=\"1\" class=\"dataframe\">\n",
       "  <thead>\n",
       "    <tr style=\"text-align: right;\">\n",
       "      <th></th>\n",
       "      <th>values</th>\n",
       "    </tr>\n",
       "  </thead>\n",
       "  <tbody>\n",
       "    <tr>\n",
       "      <th>x</th>\n",
       "      <td>464000000.0 meter</td>\n",
       "    </tr>\n",
       "    <tr>\n",
       "      <th>y</th>\n",
       "      <td>4504977.302939494 meter</td>\n",
       "    </tr>\n",
       "    <tr>\n",
       "      <th>v_x</th>\n",
       "      <td>-25000.0 meter / second</td>\n",
       "    </tr>\n",
       "    <tr>\n",
       "      <th>v_y</th>\n",
       "      <td>0.0 meter / second</td>\n",
       "    </tr>\n",
       "  </tbody>\n",
       "</table>\n",
       "</div>"
      ],
      "text/plain": [
       "x            464000000.0 meter\n",
       "y      4504977.302939494 meter\n",
       "v_x    -25000.0 meter / second\n",
       "v_y         0.0 meter / second\n",
       "dtype: object"
      ]
     },
     "execution_count": 3,
     "metadata": {},
     "output_type": "execute_result"
    }
   ],
   "source": [
    "# initializing the (x,y) of the asteroid\n",
    "x0 = 4.64e8\n",
    "y0 = 4504977.302939494\n",
    "\n",
    "\n",
    "# make an initial state that includes the position and the velocity of the asteroid\n",
    "init = State(x = x0 * m, \n",
    "             y = y0 * m, \n",
    "             v_x = -25000 * m/s, # m/s - X Velocity of Asteroid\n",
    "             v_y = 0 * m/s, # m/s - Y Velocity of Asteroid\n",
    "             )"
   ]
  },
  {
   "cell_type": "markdown",
   "metadata": {},
   "source": [
    "A system object was created containing the system parameters."
   ]
  },
  {
   "cell_type": "code",
   "execution_count": 4,
   "metadata": {},
   "outputs": [
    {
     "data": {
      "text/html": [
       "<div>\n",
       "<style scoped>\n",
       "    .dataframe tbody tr th:only-of-type {\n",
       "        vertical-align: middle;\n",
       "    }\n",
       "\n",
       "    .dataframe tbody tr th {\n",
       "        vertical-align: top;\n",
       "    }\n",
       "\n",
       "    .dataframe thead th {\n",
       "        text-align: right;\n",
       "    }\n",
       "</style>\n",
       "<table border=\"1\" class=\"dataframe\">\n",
       "  <thead>\n",
       "    <tr style=\"text-align: right;\">\n",
       "      <th></th>\n",
       "      <th>values</th>\n",
       "    </tr>\n",
       "  </thead>\n",
       "  <tbody>\n",
       "    <tr>\n",
       "      <th>init</th>\n",
       "      <td>x            464000000.0 meter\n",
       "y      4504977....</td>\n",
       "    </tr>\n",
       "    <tr>\n",
       "      <th>m_earth</th>\n",
       "      <td>5.972e+24 kilogram</td>\n",
       "    </tr>\n",
       "    <tr>\n",
       "      <th>c_earth</th>\n",
       "      <td>40075000.0 meter</td>\n",
       "    </tr>\n",
       "    <tr>\n",
       "      <th>Vol_earth</th>\n",
       "      <td>1.08320692e+21 meter ** 3</td>\n",
       "    </tr>\n",
       "    <tr>\n",
       "      <th>init_w_earth</th>\n",
       "      <td>7.2921159e-05 radian / second</td>\n",
       "    </tr>\n",
       "    <tr>\n",
       "      <th>density_asteroid</th>\n",
       "      <td>3200.0 kilogram / meter ** 3</td>\n",
       "    </tr>\n",
       "    <tr>\n",
       "      <th>m_asteroid</th>\n",
       "      <td>2.67e+20 kilogram</td>\n",
       "    </tr>\n",
       "    <tr>\n",
       "      <th>G</th>\n",
       "      <td>6.674e-11 meter ** 3 / kilogram / second ** 2</td>\n",
       "    </tr>\n",
       "    <tr>\n",
       "      <th>striking_angle</th>\n",
       "      <td>0.785398</td>\n",
       "    </tr>\n",
       "    <tr>\n",
       "      <th>r_final</th>\n",
       "      <td>6844174.136 meter</td>\n",
       "    </tr>\n",
       "    <tr>\n",
       "      <th>t_0</th>\n",
       "      <td>0</td>\n",
       "    </tr>\n",
       "    <tr>\n",
       "      <th>t_end</th>\n",
       "      <td>1e+10</td>\n",
       "    </tr>\n",
       "  </tbody>\n",
       "</table>\n",
       "</div>"
      ],
      "text/plain": [
       "init                x            464000000.0 meter\n",
       "y      4504977....\n",
       "m_earth                                            5.972e+24 kilogram\n",
       "c_earth                                              40075000.0 meter\n",
       "Vol_earth                                   1.08320692e+21 meter ** 3\n",
       "init_w_earth                            7.2921159e-05 radian / second\n",
       "density_asteroid                         3200.0 kilogram / meter ** 3\n",
       "m_asteroid                                          2.67e+20 kilogram\n",
       "G                       6.674e-11 meter ** 3 / kilogram / second ** 2\n",
       "striking_angle                                               0.785398\n",
       "r_final                                             6844174.136 meter\n",
       "t_0                                                                 0\n",
       "t_end                                                           1e+10\n",
       "dtype: object"
      ]
     },
     "execution_count": 4,
     "metadata": {},
     "output_type": "execute_result"
    }
   ],
   "source": [
    "r_asteroid = 473174.136 * m  # The radius of the Asteroid\n",
    "r_earth = 6.371e6*m          #The radius of the Earth\n",
    "\n",
    "system = System(init=init,\n",
    "                ## Earth's Parameters##\n",
    "                m_earth = 5.972e24 * kg,            # Mass of the Earth\n",
    "                c_earth = 40.075e6 * m,             # Circumference of the Earth\n",
    "                Vol_earth = 1.08320692e21 * m**3,   # Volume of the Earth\n",
    "                init_w_earth = 7.2921159e-5 * rad/s,# Initial Angular Velocity of Earth\n",
    "             \n",
    "                ## Parameter of the Asteroids ##\n",
    "                density_asteroid = 3200 * kg / m**3,# Density of Asteroid\n",
    "                m_asteroid = 2.67e20 * kg,          # Mass of Asteroid\n",
    "                \n",
    "                G=6.674e-11 * m**3 * kg **-1 * s **-2, #Universal Gravitational constant\n",
    "                striking_angle = math.pi /4 ,               #Striking angle of Asteroid\n",
    "               \n",
    "                r_final=r_asteroid + r_earth,       #Distance Between Earth and Asteroid\n",
    "                t_0=0,                              #Initial Time\n",
    "                t_end=1e10                          #End Time\n",
    "                )"
   ]
  },
  {
   "cell_type": "code",
   "execution_count": 5,
   "metadata": {},
   "outputs": [],
   "source": [
    "def y_dependingOn_angle(angle):\n",
    "    \"\"\"\n",
    "    Computes the y position of the asteroid depending on the angle of collision\n",
    "    \"\"\"\n",
    "    \n",
    "    y = r_earth * math.sin(angle)\n",
    "    \n",
    "    return y"
   ]
  },
  {
   "cell_type": "code",
   "execution_count": 6,
   "metadata": {},
   "outputs": [
    {
     "data": {
      "text/html": [
       "4504977.302939494 meter"
      ],
      "text/latex": [
       "$4504977.302939494 meter$"
      ],
      "text/plain": [
       "<Quantity(4504977.302939494, 'meter')>"
      ]
     },
     "execution_count": 6,
     "metadata": {},
     "output_type": "execute_result"
    }
   ],
   "source": [
    "y0 = y_dependingOn_angle(system.striking_angle) # this was plugged in at the top"
   ]
  },
  {
   "cell_type": "markdown",
   "metadata": {},
   "source": [
    "We implemented universal gravitation as if an asteroid were to approach Earth, it would not go at a constant speed the closer it gets. It would increase in velocity so we added it to the model."
   ]
  },
  {
   "cell_type": "code",
   "execution_count": 7,
   "metadata": {},
   "outputs": [],
   "source": [
    "def universal_gravitation(init, system):\n",
    "    \"\"\"Computes gravitational force between Asteroid and Earth.\n",
    "    \"\"\"\n",
    "    x, y, v_x, v_y = init\n",
    "    unpack(system)\n",
    "\n",
    "    forceMag = G * m_earth * m_asteroid / (x**2 + y**2)\n",
    "    #negative because it is positive outwards (distance increases as I go out)\n",
    "    r = Vector(-x, -y)\n",
    "    gravity = forceMag * r.hat()\n",
    "    \n",
    "    return gravity"
   ]
  },
  {
   "cell_type": "code",
   "execution_count": 8,
   "metadata": {},
   "outputs": [
    {
     "data": {
      "text/html": [
       "[-4.94219522e+17 -4.79837873e+15] kilogram meter/second<sup>2</sup>"
      ],
      "text/latex": [
       "$[-4.94219522e+17 -4.79837873e+15] \\frac{kilogram \\cdot meter}{second^{2}}$"
      ],
      "text/plain": [
       "<Quantity([-4.94219522e+17 -4.79837873e+15], 'kilogram * meter / second ** 2')>"
      ]
     },
     "execution_count": 8,
     "metadata": {},
     "output_type": "execute_result"
    }
   ],
   "source": [
    "universal_gravitation(init, system)"
   ]
  },
  {
   "cell_type": "markdown",
   "metadata": {},
   "source": [
    "The slope function establishes the velocity and also the acceleration. Asteroid itself would not accelerate on its own, it does not have some sort of energy source or propulsion. It's acceleration is influenced by the Earth's gravitational pull. This function establishes the changes in the asteroids velocity with the differential equations.\n",
    "\n",
    "It is important to note that we decided to set acceleration in the y direction to be 0. This was done because we approached the problem by presuming that only the forces in the x direction were used to influence Earth's rotation time."
   ]
  },
  {
   "cell_type": "code",
   "execution_count": 9,
   "metadata": {},
   "outputs": [],
   "source": [
    "def slope_func(init, dt, system):\n",
    "    x, y, v_x, v_y = init\n",
    "\n",
    "    unpack(system)\n",
    "    \n",
    "    gravity = universal_gravitation(init, system)\n",
    "    dxdt = v_x\n",
    "    dydt = 0\n",
    "    dvxdt = gravity[0]/ m_asteroid\n",
    "    dvydt = 0\n",
    "    \n",
    "    return dxdt, dydt, dvxdt, dvydt"
   ]
  },
  {
   "cell_type": "code",
   "execution_count": 10,
   "metadata": {},
   "outputs": [
    {
     "data": {
      "text/plain": [
       "(<Quantity(-25000.0, 'meter / second')>,\n",
       " 0,\n",
       " <Quantity(-0.0018510094466009563, 'meter / second ** 2')>,\n",
       " 0)"
      ]
     },
     "execution_count": 10,
     "metadata": {},
     "output_type": "execute_result"
    }
   ],
   "source": [
    "slope_func(init, 0, system) ##To test if it works"
   ]
  },
  {
   "cell_type": "markdown",
   "metadata": {},
   "source": [
    "The event function determines when to stop the first model. It will stop when the asteroid makes impact with the Earth, which is the sum of their radii."
   ]
  },
  {
   "cell_type": "code",
   "execution_count": 11,
   "metadata": {},
   "outputs": [],
   "source": [
    "def event_func(init, dt, system):\n",
    "    \n",
    "    x, y, v_x, v_y = init\n",
    "    r = Vector(x,y)\n",
    "    \n",
    "    # stops run simulation when the asteroid comes into contact with earth's surface\n",
    "    return r.x - system.r_final # m"
   ]
  },
  {
   "cell_type": "code",
   "execution_count": 12,
   "metadata": {},
   "outputs": [
    {
     "data": {
      "text/html": [
       "457155825.864 meter"
      ],
      "text/latex": [
       "$457155825.864 meter$"
      ],
      "text/plain": [
       "<Quantity(457155825.864, 'meter')>"
      ]
     },
     "execution_count": 12,
     "metadata": {},
     "output_type": "execute_result"
    }
   ],
   "source": [
    "event_func(init, 0, system)"
   ]
  },
  {
   "cell_type": "code",
   "execution_count": 13,
   "metadata": {},
   "outputs": [
    {
     "data": {
      "text/html": [
       "<div>\n",
       "<style scoped>\n",
       "    .dataframe tbody tr th:only-of-type {\n",
       "        vertical-align: middle;\n",
       "    }\n",
       "\n",
       "    .dataframe tbody tr th {\n",
       "        vertical-align: top;\n",
       "    }\n",
       "\n",
       "    .dataframe thead th {\n",
       "        text-align: right;\n",
       "    }\n",
       "</style>\n",
       "<table border=\"1\" class=\"dataframe\">\n",
       "  <thead>\n",
       "    <tr style=\"text-align: right;\">\n",
       "      <th></th>\n",
       "      <th>values</th>\n",
       "    </tr>\n",
       "  </thead>\n",
       "  <tbody>\n",
       "    <tr>\n",
       "      <th>sol</th>\n",
       "      <td>None</td>\n",
       "    </tr>\n",
       "    <tr>\n",
       "      <th>t_events</th>\n",
       "      <td>[[18199.19415494453]]</td>\n",
       "    </tr>\n",
       "    <tr>\n",
       "      <th>nfev</th>\n",
       "      <td>50</td>\n",
       "    </tr>\n",
       "    <tr>\n",
       "      <th>njev</th>\n",
       "      <td>0</td>\n",
       "    </tr>\n",
       "    <tr>\n",
       "      <th>nlu</th>\n",
       "      <td>0</td>\n",
       "    </tr>\n",
       "    <tr>\n",
       "      <th>status</th>\n",
       "      <td>1</td>\n",
       "    </tr>\n",
       "    <tr>\n",
       "      <th>message</th>\n",
       "      <td>A termination event occurred.</td>\n",
       "    </tr>\n",
       "    <tr>\n",
       "      <th>success</th>\n",
       "      <td>True</td>\n",
       "    </tr>\n",
       "  </tbody>\n",
       "</table>\n",
       "</div>"
      ],
      "text/plain": [
       "sol                                  None\n",
       "t_events            [[18199.19415494453]]\n",
       "nfev                                   50\n",
       "njev                                    0\n",
       "nlu                                     0\n",
       "status                                  1\n",
       "message     A termination event occurred.\n",
       "success                              True\n",
       "dtype: object"
      ]
     },
     "execution_count": 13,
     "metadata": {},
     "output_type": "execute_result"
    }
   ],
   "source": [
    "results, details = run_ode_solver(system, slope_func, events=event_func)\n",
    "details"
   ]
  },
  {
   "cell_type": "code",
   "execution_count": 14,
   "metadata": {},
   "outputs": [
    {
     "data": {
      "text/html": [
       "<div>\n",
       "<style scoped>\n",
       "    .dataframe tbody tr th:only-of-type {\n",
       "        vertical-align: middle;\n",
       "    }\n",
       "\n",
       "    .dataframe tbody tr th {\n",
       "        vertical-align: top;\n",
       "    }\n",
       "\n",
       "    .dataframe thead th {\n",
       "        text-align: right;\n",
       "    }\n",
       "</style>\n",
       "<table border=\"1\" class=\"dataframe\">\n",
       "  <thead>\n",
       "    <tr style=\"text-align: right;\">\n",
       "      <th></th>\n",
       "      <th>x</th>\n",
       "      <th>y</th>\n",
       "      <th>v_x</th>\n",
       "      <th>v_y</th>\n",
       "    </tr>\n",
       "  </thead>\n",
       "  <tbody>\n",
       "    <tr>\n",
       "      <th>0.000000</th>\n",
       "      <td>4.640000e+08</td>\n",
       "      <td>4.504977e+06</td>\n",
       "      <td>-25000.000000</td>\n",
       "      <td>0.0</td>\n",
       "    </tr>\n",
       "    <tr>\n",
       "      <th>0.820203</th>\n",
       "      <td>4.639795e+08</td>\n",
       "      <td>4.504977e+06</td>\n",
       "      <td>-25000.001518</td>\n",
       "      <td>0.0</td>\n",
       "    </tr>\n",
       "    <tr>\n",
       "      <th>9.022236</th>\n",
       "      <td>4.637744e+08</td>\n",
       "      <td>4.504977e+06</td>\n",
       "      <td>-25000.016708</td>\n",
       "      <td>0.0</td>\n",
       "    </tr>\n",
       "    <tr>\n",
       "      <th>91.042566</th>\n",
       "      <td>4.617239e+08</td>\n",
       "      <td>4.504977e+06</td>\n",
       "      <td>-25000.169351</td>\n",
       "      <td>0.0</td>\n",
       "    </tr>\n",
       "    <tr>\n",
       "      <th>911.245865</th>\n",
       "      <td>4.412181e+08</td>\n",
       "      <td>4.504977e+06</td>\n",
       "      <td>-25001.773803</td>\n",
       "      <td>0.0</td>\n",
       "    </tr>\n",
       "    <tr>\n",
       "      <th>9113.278850</th>\n",
       "      <td>2.360505e+08</td>\n",
       "      <td>4.504977e+06</td>\n",
       "      <td>-25033.153352</td>\n",
       "      <td>0.0</td>\n",
       "    </tr>\n",
       "    <tr>\n",
       "      <th>18199.194155</th>\n",
       "      <td>6.844174e+06</td>\n",
       "      <td>4.504977e+06</td>\n",
       "      <td>-25477.669561</td>\n",
       "      <td>0.0</td>\n",
       "    </tr>\n",
       "  </tbody>\n",
       "</table>\n",
       "</div>"
      ],
      "text/plain": [
       "                         x             y           v_x  v_y\n",
       "0.000000      4.640000e+08  4.504977e+06 -25000.000000  0.0\n",
       "0.820203      4.639795e+08  4.504977e+06 -25000.001518  0.0\n",
       "9.022236      4.637744e+08  4.504977e+06 -25000.016708  0.0\n",
       "91.042566     4.617239e+08  4.504977e+06 -25000.169351  0.0\n",
       "911.245865    4.412181e+08  4.504977e+06 -25001.773803  0.0\n",
       "9113.278850   2.360505e+08  4.504977e+06 -25033.153352  0.0\n",
       "18199.194155  6.844174e+06  4.504977e+06 -25477.669561  0.0"
      ]
     },
     "execution_count": 14,
     "metadata": {},
     "output_type": "execute_result"
    }
   ],
   "source": [
    "results"
   ]
  },
  {
   "cell_type": "markdown",
   "metadata": {},
   "source": [
    "The velocity at collision is pulled from the function as it will be carried on to the next part of the model. The velocity at impact will be implemented in the conservation of energy equation."
   ]
  },
  {
   "cell_type": "code",
   "execution_count": 15,
   "metadata": {},
   "outputs": [
    {
     "data": {
      "text/html": [
       "-25477.66956147798 meter/second"
      ],
      "text/latex": [
       "$-25477.66956147798 \\frac{meter}{second}$"
      ],
      "text/plain": [
       "<Quantity(-25477.66956147798, 'meter / second')>"
      ]
     },
     "execution_count": 15,
     "metadata": {},
     "output_type": "execute_result"
    }
   ],
   "source": [
    "v_at_collision = get_last_value(results.v_x) * m/s"
   ]
  },
  {
   "cell_type": "markdown",
   "metadata": {},
   "source": [
    "### Result 1: Position of Impact"
   ]
  },
  {
   "cell_type": "code",
   "execution_count": 16,
   "metadata": {},
   "outputs": [
    {
     "data": {
      "image/png": "[encoded data removed]",
      "text/plain": [
       "<Figure size 432x288 with 1 Axes>"
      ]
     },
     "metadata": {},
     "output_type": "display_data"
    }
   ],
   "source": [
    "x = results.x\n",
    "y = results.y\n",
    "vx = results.v_x\n",
    "\n",
    "# used to check the trajectory of the asteroid\n",
    "plot(x,y)\n",
    "\n",
    "decorate(title=\"The Position of the Asteroid from Earth\",\n",
    "         xlabel='x position from Earth (Meters)',\n",
    "         ylabel='y position from Earth (Meters)')\n"
   ]
  },
  {
   "cell_type": "markdown",
   "metadata": {},
   "source": [
    "The figure above shows the position of the asteroid as it travels over time. The final position on the graph is the distance traveled when it makes impact with the Earth. There is no change in y as in this section of the model we are calculating direct impact, and later on it will be changed based on the angle of impact. This result is more of raw data, as it will later be adjusted based on angles."
   ]
  },
  {
   "cell_type": "markdown",
   "metadata": {},
   "source": [
    "### Results 2: The Change in Velocity over Time as the Asteroid Approaches"
   ]
  },
  {
   "cell_type": "code",
   "execution_count": 17,
   "metadata": {},
   "outputs": [
    {
     "data": {
      "image/png": "[encoded data removed]",
      "text/plain": [
       "<Figure size 432x288 with 1 Axes>"
      ]
     },
     "metadata": {},
     "output_type": "display_data"
    }
   ],
   "source": [
    "plot(x, vx)\n",
    "decorate(title=\"The Velocity of the Asteroid as it Approaches Earth\",\n",
    "         xlabel='Distance from Earth (Meters)',\n",
    "         ylabel='Velocity of Asteroid (Meters/Second)')"
   ]
  },
  {
   "cell_type": "markdown",
   "metadata": {},
   "source": [
    "The figure above shows the change in the velocity of the asteroid as it approaches the Earth. as the distance between Earth and the asteroid gets closer, the change in velocity becomes much steeper as the force of Earth's gravity becomes stronger. Based on this model, it seems that around if the Earth is 2.5e8 meters away from Earth, it will begin to accelerate faster towards Earth making it much more difficult to take preventative measures."
   ]
  },
  {
   "cell_type": "markdown",
   "metadata": {},
   "source": [
    "### Model 2: Changing the Angle of Approach\n",
    "The second model implements a change in the angle of approach. The change in angle will affect the amount of energy that will transfer from the asteroid to affect the Earth's rotation. To see the the change in time it takes Earth to complete one rotation depending on the different angle the asteroid strikes, the angle was swept through using a SweepSeries.\n",
    "\n",
    "Because the initial y position of the asteroid depended on the angle that it would strike Earth, we created a function that would create a new system with different striking angles and initial y positions. Each time we would find the time it takes for one revolution, we used a system with corresponding values depending on the angle that the asteroid strikes. "
   ]
  },
  {
   "cell_type": "code",
   "execution_count": 18,
   "metadata": {},
   "outputs": [],
   "source": [
    "def make_system(ang_asteroid, y):\n",
    "    \n",
    "    x0 = 4.64e8\n",
    "    y0 = y # is used to vary y position of the asteroid\n",
    "\n",
    "    init = State(x = x0 * m, \n",
    "                 y = y0 * m, \n",
    "                 v_x = -25000 * m/s, \n",
    "                 v_y = 0 * m/s, \n",
    "                 )\n",
    "    \n",
    "    return System(init=init,\n",
    "                  m_earth = 5.972e24 * kg,\n",
    "                  c_earth = 40.075e6 * m,\n",
    "                  Vol_earth = 1.08320692e21 * m**3,\n",
    "                  init_w_earth = 7.2921159e-5 * rad/s ,\n",
    "                  density_asteroid = 3200 * kg / m**3,\n",
    "                  m_asteroid = 2.67e20 * kg,\n",
    "            \n",
    "                  G=6.674e-11 * m**3 * kg **-1 * s **-2, \n",
    "                  striking_angle = ang_asteroid, # is used to vary the angle of the asteroid\n",
    "               \n",
    "                  r_final=r_asteroid + r_earth,\n",
    "                  t_0=0,\n",
    "                  t_end=1e10\n",
    "                 )"
   ]
  },
  {
   "cell_type": "markdown",
   "metadata": {},
   "source": [
    "## The Math Behind the Model\n",
    "\n",
    "We implemented the law of conservation of energy in this problem, and modified it as a collision problem as the asteroid will colide into earth. The asteroid is going to stick to earth, making it an inelastic collision. The Equation below is the initial formula that was set up:\n",
    "\n",
    "$$  t = \\frac{1}{2} m_a v_a1^2 + \\frac{1}{2}I_Ew_E^2 = \\frac{1}{2}(I_a+I_E)w^2$$\n",
    "\n",
    "It was then rearranged in order to solve for the final angular velocity of the earth.\n",
    "An assumption that was made was excluding loss of mass of the asteroid that is burned as it enters the earth's atmosphere, and loss of mass as the asteroid and earth make impact as it is possible particles fly around."
   ]
  },
  {
   "cell_type": "code",
   "execution_count": 19,
   "metadata": {},
   "outputs": [],
   "source": [
    "def energy_to_velocity(system, v_at_collision):\n",
    "    \"\"\"\n",
    "    Function that converts:\n",
    "    energy from the asteroid -> angular velocity of the earth\n",
    "    \"\"\"\n",
    "    \n",
    "    unpack(system)\n",
    "    \n",
    "    inertia_earth = (2/5 * m_earth * (r_earth**2))\n",
    "    inertia_asteroid = (2/5 * m_asteroid * (r_asteroid**2))\n",
    "    inertia_both = inertia_earth + inertia_asteroid\n",
    "    \n",
    "    final_w_earth = sqrt(((m_asteroid * (v_at_collision**2)) + (inertia_earth * (init_w_earth**2))) / inertia_both) \n",
    "\n",
    "    return final_w_earth #rad/sec"
   ]
  },
  {
   "cell_type": "code",
   "execution_count": 20,
   "metadata": {},
   "outputs": [
    {
     "data": {
      "text/html": [
       "8.429087092295098e-05 1/second"
      ],
      "text/latex": [
       "$8.429087092295098e-05 \\frac{1}{second}$"
      ],
      "text/plain": [
       "<Quantity(8.429087092295098e-05, '1 / second')>"
      ]
     },
     "execution_count": 20,
     "metadata": {},
     "output_type": "execute_result"
    }
   ],
   "source": [
    "w = energy_to_velocity(system, v_at_collision)"
   ]
  },
  {
   "cell_type": "markdown",
   "metadata": {},
   "source": [
    "The function below calculates the time it takes Earth to complete one revolution depending on its angular velocity that was changed due to the asteroid impact.\n",
    "\n",
    "The two equations below were used to calculate the time:\n",
    "$$ t = \\frac{\\theta}{\\omega} $$\n",
    "\n",
    "$$ \\theta = \\frac{S}{r}$$\n",
    "\n",
    "The calculation for deriving t is explained below:\n",
    "$$ t = \\frac{\\frac{S}{r}}{\\omega} $$\n",
    "\n",
    "$$ t = \\frac{S}{\\omega * r} $$"
   ]
  },
  {
   "cell_type": "code",
   "execution_count": 21,
   "metadata": {},
   "outputs": [],
   "source": [
    "def time_for_revolution(w_earth, system):\n",
    "    \"\"\"\n",
    "    Function that calculates the time it takes for earth \n",
    "    to spin depending on the changed angular velocity\n",
    "    \"\"\"\n",
    "    \n",
    "    unpack(system)\n",
    "    \n",
    "    time = c_earth / (r_earth * w_earth) \n",
    "    \n",
    "    return time"
   ]
  },
  {
   "cell_type": "code",
   "execution_count": 22,
   "metadata": {},
   "outputs": [
    {
     "data": {
      "text/html": [
       "74625.17881782132 second"
      ],
      "text/latex": [
       "$74625.17881782132 second$"
      ],
      "text/plain": [
       "<Quantity(74625.17881782132, 'second')>"
      ]
     },
     "execution_count": 22,
     "metadata": {},
     "output_type": "execute_result"
    }
   ],
   "source": [
    "output = time_for_revolution(w, system)"
   ]
  },
  {
   "cell_type": "code",
   "execution_count": 23,
   "metadata": {},
   "outputs": [
    {
     "data": {
      "text/html": [
       "20.7292163382837 hour"
      ],
      "text/latex": [
       "$20.7292163382837 hour$"
      ],
      "text/plain": [
       "<Quantity(20.7292163382837, 'hour')>"
      ]
     },
     "execution_count": 23,
     "metadata": {},
     "output_type": "execute_result"
    }
   ],
   "source": [
    "output.to(UNITS.hours)"
   ]
  },
  {
   "cell_type": "markdown",
   "metadata": {},
   "source": [
    "# Sweeping Through  Different Angles\n",
    "Now that we know that the code is working, we will use a SweepSeries to see the time it takes Earth to complete one revolution depending on the different angle the asteroid strikes Earth at the moment of collision.\n",
    "\n",
    "For this, the asteroid Ceres was selected due to its massive size so that we would be able to see a clear difference."
   ]
  },
  {
   "cell_type": "code",
   "execution_count": 24,
   "metadata": {},
   "outputs": [
    {
     "name": "stdout",
     "output_type": "stream",
     "text": [
      "-1.570796e+00    20.713491516148316 hour\n",
      "-1.308997e+00     20.71567607864414 hour\n",
      "-1.047198e+00     20.72151332404663 hour\n",
      "-7.853982e-01      20.7292163382837 hour\n",
      "-5.235988e-01     20.73667916338952 hour\n",
      "-2.617994e-01    20.742049097705966 hour\n",
      "-3.330669e-16    20.744007034115466 hour\n",
      " 2.617994e-01    20.742049097705966 hour\n",
      " 5.235988e-01     20.73667916338952 hour\n",
      " 7.853982e-01      20.7292163382837 hour\n",
      " 1.047198e+00     20.72151332404663 hour\n",
      " 1.308997e+00     20.71567607864414 hour\n",
      " 1.570796e+00    20.713491516148316 hour\n",
      "dtype: object\n"
     ]
    }
   ],
   "source": [
    "# making an array of different angles\n",
    "dA = math.pi / 12 # rad\n",
    "ang_asteroid = linrange(-math.pi / 2, math.pi / 2, dA, endpoint = True) # rad\n",
    "\n",
    "# making a SweepSeries\n",
    "sweep_angle = SweepSeries()\n",
    "\n",
    "\n",
    "for i in range(len(ang_asteroid)):\n",
    "    # finds the initial y position that the asteroid has to be at to strike at the desired angle\n",
    "    y = y_dependingOn_angle(ang_asteroid[i])\n",
    "    # makes a new system with different angles and y position\n",
    "    system = make_system(ang_asteroid[i], y)\n",
    "    \n",
    "    results, details = run_ode_solver(system, slope_func, events=event_func)\n",
    "    \n",
    "    # finds the velocity of the asteroid at the moment of collision\n",
    "    v_at_collision = get_last_value(results.v_x) * m/s\n",
    "    \n",
    "    w = energy_to_velocity(system, v_at_collision)\n",
    "    output = time_for_revolution(w, system)\n",
    "    hrs = output.to(UNITS.hours)\n",
    "    \n",
    "    # stores the time for one revolution per angle in a SweepSeries\n",
    "    sweep_angle[ang_asteroid[i]] = hrs\n",
    "    \n",
    "    \n",
    "print(sweep_angle)"
   ]
  },
  {
   "cell_type": "markdown",
   "metadata": {},
   "source": [
    "### Results 1: The Impact of Ceres\n",
    "\n",
    "Below includes 3 plots, that all compile into 1 result, which is the change in earth's rotation--converted to how long a day will be--after the impact of Ceres."
   ]
  },
  {
   "cell_type": "markdown",
   "metadata": {},
   "source": [
    "#### Graph 1\n",
    "\n",
    "The figure below shows the plotting of the change in days as a form of a complete slope. Based on this model, predictions can be made on theh day length based on the angle of impact."
   ]
  },
  {
   "cell_type": "code",
   "execution_count": 25,
   "metadata": {},
   "outputs": [
    {
     "data": {
      "image/png": "[encoded data removed]",
      "text/plain": [
       "<Figure size 432x288 with 1 Axes>"
      ]
     },
     "metadata": {},
     "output_type": "display_data"
    }
   ],
   "source": [
    "plot(sweep_angle)\n",
    "decorate(title=\"Effect of Asteroid Ceres' Impact Based on Vertical Angle\",\n",
    "xlabel='Angle (radians)',\n",
    "ylabel='Time (hours)')"
   ]
  },
  {
   "cell_type": "markdown",
   "metadata": {},
   "source": [
    "#### Graph 2\n",
    "\n",
    "The figure below shows the individual plotting of the calulated day lengths based on individual angles in radians."
   ]
  },
  {
   "cell_type": "code",
   "execution_count": 26,
   "metadata": {},
   "outputs": [
    {
     "data": {
      "image/png": "[encoded data removed]",
      "text/plain": [
       "<Figure size 432x288 with 1 Axes>"
      ]
     },
     "metadata": {},
     "output_type": "display_data"
    }
   ],
   "source": [
    "plot(sweep_angle, \"*\")\n",
    "decorate(title=\"Effect of Asteroid Ceres' Impact Based on Vertical Angle\",\n",
    "xlabel='Angle (radians)',\n",
    "ylabel='Time (hours)')"
   ]
  },
  {
   "cell_type": "markdown",
   "metadata": {},
   "source": [
    "#### Graph 3\n",
    "\n",
    "The graph below compiles both of the previous graphs to show the line fit."
   ]
  },
  {
   "cell_type": "code",
   "execution_count": 27,
   "metadata": {},
   "outputs": [
    {
     "data": {
      "image/png": "[encoded data removed]",
      "text/plain": [
       "<Figure size 432x288 with 1 Axes>"
      ]
     },
     "metadata": {},
     "output_type": "display_data"
    }
   ],
   "source": [
    "plot(sweep_angle)\n",
    "plot(sweep_angle, \"*\")\n",
    "decorate(title=\"Effect of Asteroid Ceres' Impact Based on Vertical Angle\",\n",
    "xlabel='Angle (radians)',\n",
    "ylabel='Time (hours)')"
   ]
  },
  {
   "cell_type": "markdown",
   "metadata": {},
   "source": [
    "## Interpretation\n",
    "The graph looks symmetrical as the way this model works, we are sweeping though angles of approach on a vertical axis. Based on the model we can infer that if the asteroid hits below or above the center point of earth, they will produce the same length of the days. However, the graph should exhibit a parabola or a curve of some sort that increases along with the increasing angle, because for negative angles (when the asteroid strikes below 0 radians) the asteroid should slow Earth down in reality. This symmetrical behavior can be explained from the usage of the conservation of energy to calculate the altered angular velocity of the Earth. By using the conservation of energy, the equation disregards whether the asteroid's velocity is going against Earth's angular velocity or whether the asteroid's velocity is going along with Earth's angular velocity. The equation only considers the energy stored in the asteroid's final velocity at the moment of collision.\n",
    "\n",
    "Another failing in the model is it only takes a change in the horizontal angle impact. We iterated our model multiple times, initially focusing on the change in mass of the asteroid. The failing with that approach however it is very limited and focused on if an asteroid approaches head on in on the y axis of the Earth. It gives a general change in the Earth's rotation, but does not analyze as much possibilies of impact as there actually are.\n",
    "\n",
    "Apart from the failures, our model accurately proves that the rotation time will be severely effected as the angle nears 90 degrees. When the asteroid strikes at an angle of 0 radians, the rotation time is the longest whereas the \n",
    "\n",
    "Iteration was very important in our model because it allowed us to come up with better solution to approaching our answer to the question that we proposed. We started with a basic question of how Earth's mass will affect rotation. We then realized it was too exact of a question as we would have to choose a efficient impact point that would allow the energy transfer to be more effective, limiting impact to one form of approach and one point of impact. We then evolved the question to how angle of approach affects the asteroid's cause of change in rotation."
   ]
  },
  {
   "cell_type": "markdown",
   "metadata": {},
   "source": [
    "## Testing the model on 99942 Aphopis"
   ]
  },
  {
   "cell_type": "code",
   "execution_count": 28,
   "metadata": {},
   "outputs": [],
   "source": [
    "r_asteroid2 = 185 * m\n",
    "r_earth = 6.371e6 * m;"
   ]
  },
  {
   "cell_type": "code",
   "execution_count": 29,
   "metadata": {},
   "outputs": [],
   "source": [
    "def make_system2(ang_asteroid, y):\n",
    "    \n",
    "    x0 = 4.64e8\n",
    "    y0 = y\n",
    "\n",
    "    init = State(x = x0 * m, \n",
    "                 y = y0 * m, \n",
    "                 v_x = -25000 * m/s, # m/s - X Velocity of Asteroid\n",
    "                 v_y = 0 * m/s, # m/s - Y Velocity of Asteroid\n",
    "                 )\n",
    "    \n",
    "    return System(init=init,\n",
    "                  m_earth = 5.972e24 * kg,\n",
    "                  c_earth = 40.075e6 * m,\n",
    "                  Vol_earth = 1.08320692e21 * m**3,\n",
    "                  init_w_earth = 7.2921159e-5 * rad/s,\n",
    "                  \n",
    "                  density_asteroid = 3200 * kg / m**3,\n",
    "                  m_asteroid = 2.699e10 * kg,\n",
    "            \n",
    "                  G=6.674e-11 * m**3 * kg **-1 * s **-2, \n",
    "                  striking_angle = ang_asteroid,\n",
    "               \n",
    "                  r_final=r_asteroid + r_earth,\n",
    "                  t_0=0,\n",
    "                  t_end=1e10\n",
    "                 )"
   ]
  },
  {
   "cell_type": "code",
   "execution_count": 30,
   "metadata": {},
   "outputs": [
    {
     "name": "stdout",
     "output_type": "stream",
     "text": [
      "-1.570796e+00     23.96127163412655 hour\n",
      "-1.308997e+00     23.96127163412689 hour\n",
      "-1.047198e+00     23.96127163412781 hour\n",
      "-7.853982e-01    23.961271634129016 hour\n",
      "-5.235988e-01    23.961271634130178 hour\n",
      "-2.617994e-01    23.961271634131013 hour\n",
      "-3.330669e-16    23.961271634131318 hour\n",
      " 2.617994e-01    23.961271634131013 hour\n",
      " 5.235988e-01    23.961271634130178 hour\n",
      " 7.853982e-01    23.961271634129016 hour\n",
      " 1.047198e+00     23.96127163412781 hour\n",
      " 1.308997e+00     23.96127163412689 hour\n",
      " 1.570796e+00     23.96127163412655 hour\n",
      "dtype: object\n"
     ]
    }
   ],
   "source": [
    "dA = math.pi / 12 # deg\n",
    "ang_asteroid = linrange(- math.pi / 2, math.pi / 2, dA, endpoint = True) # degrees\n",
    "\n",
    "\n",
    "aphophis = SweepSeries()\n",
    "\n",
    "\n",
    "for i in range(len(ang_asteroid)):\n",
    "    y = y_dependingOn_angle(ang_asteroid[i])\n",
    "    system = make_system2(ang_asteroid[i], y)\n",
    "    \n",
    "    results, details = run_ode_solver(system, slope_func, events=event_func)\n",
    "    \n",
    "    v_at_collision = get_last_value(results.v_x) * m/s\n",
    "    \n",
    "    w = energy_to_velocity(system, v_at_collision)\n",
    "    output = time_for_revolution(w, system)\n",
    "    hrs = output.to(UNITS.hours)\n",
    "    \n",
    "    \n",
    "    aphophis[ang_asteroid[i]] = hrs\n",
    "    \n",
    "    \n",
    "print(aphophis)"
   ]
  },
  {
   "cell_type": "markdown",
   "metadata": {},
   "source": [
    "We have tested our code with another asteroid, 99942 Aphophis. The results of the SweepSeries output an expected behavior, that the time changes by 1e-10. This difference in the time of one revolution between 99942 Aphophis and Ceres is reasonable, as Ceres has a ginormous size and mass compared to 99942 Aphophis. Unfortunately, we were unable to generate an accurate plot for 99942 Aphophis."
   ]
  },
  {
   "cell_type": "code",
   "execution_count": 31,
   "metadata": {},
   "outputs": [
    {
     "data": {
      "image/png": "[encoded data removed]",
      "text/plain": [
       "<Figure size 432x288 with 1 Axes>"
      ]
     },
     "metadata": {},
     "output_type": "display_data"
    }
   ],
   "source": [
    "plot(aphophis)\n",
    "decorate(title=\"Effect of  99942 Apophis Impact Based on Vertical Angle\",\n",
    "xlabel='Angle (radians)',\n",
    "ylabel='Time (hours)')"
   ]
  }
 ],
 "metadata": {
  "kernelspec": {
   "display_name": "Python 3",
   "language": "python",
   "name": "python3"
  },
  "language_info": {
   "codemirror_mode": {
    "name": "ipython",
    "version": 3
   },
   "file_extension": ".py",
   "mimetype": "text/x-python",
   "name": "python",
   "nbconvert_exporter": "python",
   "pygments_lexer": "ipython3",
   "version": "3.6.6"
  }
 },
 "nbformat": 4,
 "nbformat_minor": 2
}
