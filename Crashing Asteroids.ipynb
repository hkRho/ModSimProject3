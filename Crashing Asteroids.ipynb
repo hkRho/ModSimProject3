{
 "cells": [
  {
   "cell_type": "markdown",
   "metadata": {},
   "source": [
    "# Spinning Earth due to an Asteroid Impact\n",
    "\n",
    "ModSim Project 3\n",
    "\n",
    "Kristtiya Guerra, HK Rho"
   ]
  },
  {
   "cell_type": "code",
   "execution_count": 41,
   "metadata": {},
   "outputs": [],
   "source": [
    "# Configure Jupyter so figures appear in the notebook\n",
    "%matplotlib inline\n",
    "\n",
    "# Configure Jupyter to display the assigned value after an assignment\n",
    "%config InteractiveShell.ast_node_interactivity='last_expr_or_assign'\n",
    "\n",
    "# import functions from the modsim library\n",
    "from modsim import *\n",
    "import random\n",
    "import decimal\n",
    "import math"
   ]
  },
  {
   "cell_type": "code",
   "execution_count": 42,
   "metadata": {},
   "outputs": [
    {
     "data": {
      "text/html": [
       "radian"
      ],
      "text/latex": [
       "$radian$"
      ],
      "text/plain": [
       "<Unit('radian')>"
      ]
     },
     "execution_count": 42,
     "metadata": {},
     "output_type": "execute_result"
    }
   ],
   "source": [
    "# Here are the units we'll need\n",
    "\n",
    "s = UNITS.second\n",
    "N = UNITS.newton\n",
    "kg = UNITS.kilogram\n",
    "m = UNITS.meter\n",
    "d = UNITS.degrees\n",
    "rad = UNITS.radians"
   ]
  },
  {
   "cell_type": "markdown",
   "metadata": {},
   "source": [
    "ASTEROID: 99942Apophis"
   ]
  },
  {
   "cell_type": "markdown",
   "metadata": {},
   "source": [
    "# First Part - Until Collision"
   ]
  },
  {
   "cell_type": "code",
   "execution_count": 43,
   "metadata": {},
   "outputs": [
    {
     "data": {
      "text/html": [
       "<div>\n",
       "<style scoped>\n",
       "    .dataframe tbody tr th:only-of-type {\n",
       "        vertical-align: middle;\n",
       "    }\n",
       "\n",
       "    .dataframe tbody tr th {\n",
       "        vertical-align: top;\n",
       "    }\n",
       "\n",
       "    .dataframe thead th {\n",
       "        text-align: right;\n",
       "    }\n",
       "</style>\n",
       "<table border=\"1\" class=\"dataframe\">\n",
       "  <thead>\n",
       "    <tr style=\"text-align: right;\">\n",
       "      <th></th>\n",
       "      <th>values</th>\n",
       "    </tr>\n",
       "  </thead>\n",
       "  <tbody>\n",
       "    <tr>\n",
       "      <th>x</th>\n",
       "      <td>464000000.0 meter</td>\n",
       "    </tr>\n",
       "    <tr>\n",
       "      <th>y</th>\n",
       "      <td>5421106.354806868 meter</td>\n",
       "    </tr>\n",
       "    <tr>\n",
       "      <th>v_x</th>\n",
       "      <td>-25000.0 meter / second</td>\n",
       "    </tr>\n",
       "    <tr>\n",
       "      <th>v_y</th>\n",
       "      <td>0.0 meter / second</td>\n",
       "    </tr>\n",
       "  </tbody>\n",
       "</table>\n",
       "</div>"
      ],
      "text/plain": [
       "x            464000000.0 meter\n",
       "y      5421106.354806868 meter\n",
       "v_x    -25000.0 meter / second\n",
       "v_y         0.0 meter / second\n",
       "dtype: object"
      ]
     },
     "execution_count": 43,
     "metadata": {},
     "output_type": "execute_result"
    }
   ],
   "source": [
    "# Making a state & system object\n",
    "x0 = 4.64e8\n",
    "y0 = 5421106.354806868\n",
    "\n",
    "\n",
    "# And an inition condition (with everything in SI units)\n",
    "init = State(x = x0 * m, \n",
    "             y = y0 * m, \n",
    "             v_x = -25000 * m/s, # m/s - X Velocity of Asteroid\n",
    "             v_y = 0 * m/s, # m/s - Y Velocity of Asteroid\n",
    "             )"
   ]
  },
  {
   "cell_type": "code",
   "execution_count": 44,
   "metadata": {},
   "outputs": [
    {
     "data": {
      "text/html": [
       "<div>\n",
       "<style scoped>\n",
       "    .dataframe tbody tr th:only-of-type {\n",
       "        vertical-align: middle;\n",
       "    }\n",
       "\n",
       "    .dataframe tbody tr th {\n",
       "        vertical-align: top;\n",
       "    }\n",
       "\n",
       "    .dataframe thead th {\n",
       "        text-align: right;\n",
       "    }\n",
       "</style>\n",
       "<table border=\"1\" class=\"dataframe\">\n",
       "  <thead>\n",
       "    <tr style=\"text-align: right;\">\n",
       "      <th></th>\n",
       "      <th>values</th>\n",
       "    </tr>\n",
       "  </thead>\n",
       "  <tbody>\n",
       "    <tr>\n",
       "      <th>init</th>\n",
       "      <td>x            464000000.0 meter\n",
       "y      5421106....</td>\n",
       "    </tr>\n",
       "    <tr>\n",
       "      <th>m_earth</th>\n",
       "      <td>5.972e+24 kilogram</td>\n",
       "    </tr>\n",
       "    <tr>\n",
       "      <th>c_earth</th>\n",
       "      <td>40075000.0 meter</td>\n",
       "    </tr>\n",
       "    <tr>\n",
       "      <th>Vol_earth</th>\n",
       "      <td>1.08320692e+21 meter ** 3</td>\n",
       "    </tr>\n",
       "    <tr>\n",
       "      <th>init_w_earth</th>\n",
       "      <td>7.2921159e-05 radian / second</td>\n",
       "    </tr>\n",
       "    <tr>\n",
       "      <th>density_asteroid</th>\n",
       "      <td>3200.0 kilogram / meter ** 3</td>\n",
       "    </tr>\n",
       "    <tr>\n",
       "      <th>m_asteroid</th>\n",
       "      <td>61000000000.0 kilogram</td>\n",
       "    </tr>\n",
       "    <tr>\n",
       "      <th>G</th>\n",
       "      <td>6.674e-11 meter ** 3 / kilogram / second ** 2</td>\n",
       "    </tr>\n",
       "    <tr>\n",
       "      <th>striking_angle</th>\n",
       "      <td>45 degree</td>\n",
       "    </tr>\n",
       "    <tr>\n",
       "      <th>r_final</th>\n",
       "      <td>6371185.0 meter</td>\n",
       "    </tr>\n",
       "    <tr>\n",
       "      <th>t_0</th>\n",
       "      <td>0</td>\n",
       "    </tr>\n",
       "    <tr>\n",
       "      <th>t_end</th>\n",
       "      <td>1e+10</td>\n",
       "    </tr>\n",
       "  </tbody>\n",
       "</table>\n",
       "</div>"
      ],
      "text/plain": [
       "init                x            464000000.0 meter\n",
       "y      5421106....\n",
       "m_earth                                            5.972e+24 kilogram\n",
       "c_earth                                              40075000.0 meter\n",
       "Vol_earth                                   1.08320692e+21 meter ** 3\n",
       "init_w_earth                            7.2921159e-05 radian / second\n",
       "density_asteroid                         3200.0 kilogram / meter ** 3\n",
       "m_asteroid                                     61000000000.0 kilogram\n",
       "G                       6.674e-11 meter ** 3 / kilogram / second ** 2\n",
       "striking_angle                                              45 degree\n",
       "r_final                                               6371185.0 meter\n",
       "t_0                                                                 0\n",
       "t_end                                                           1e+10\n",
       "dtype: object"
      ]
     },
     "execution_count": 44,
     "metadata": {},
     "output_type": "execute_result"
    }
   ],
   "source": [
    "r_asteroid = 185 * m\n",
    "r_earth = 6.371e6*m \n",
    "\n",
    "system = System(init=init,\n",
    "                m_earth = 5.972e24 * kg,\n",
    "                c_earth = 40.075e6 * m,\n",
    "                Vol_earth = 1.08320692e21 * m**3,\n",
    "                init_w_earth = 7.2921159e-5 * rad/s ,\n",
    "                density_asteroid = 3200 * kg / m**3,\n",
    "                m_asteroid = 6.1e10 * kg,\n",
    "            \n",
    "                G=6.674e-11 * m**3 * kg **-1 * s **-2, \n",
    "                striking_angle = 45 * d,\n",
    "               \n",
    "                r_final=r_asteroid + r_earth,\n",
    "                t_0=0,\n",
    "                t_end=1e10\n",
    "                )\n"
   ]
  },
  {
   "cell_type": "code",
   "execution_count": 45,
   "metadata": {},
   "outputs": [],
   "source": [
    "def y_dependingOn_angle(angle):\n",
    "    \n",
    "    y = r_earth * math.sin(angle)\n",
    "    \n",
    "    return y"
   ]
  },
  {
   "cell_type": "code",
   "execution_count": 46,
   "metadata": {},
   "outputs": [
    {
     "data": {
      "text/html": [
       "4504977.302939494 meter"
      ],
      "text/latex": [
       "$4504977.302939494 meter$"
      ],
      "text/plain": [
       "<Quantity(4504977.302939494, 'meter')>"
      ]
     },
     "execution_count": 46,
     "metadata": {},
     "output_type": "execute_result"
    }
   ],
   "source": [
    "y = y_dependingOn_angle(system.striking_angle)"
   ]
  },
  {
   "cell_type": "code",
   "execution_count": 47,
   "metadata": {},
   "outputs": [],
   "source": [
    "def universal_gravitation(init, system):\n",
    "    \"\"\"Computes gravitational force between Asteroid and Earth.\n",
    "    \"\"\"\n",
    "    x, y, v_x, v_y = init\n",
    "    unpack(system)\n",
    "\n",
    "    forceMag = G * m_earth * m_asteroid / (x**2 + y**2)\n",
    "    #negative because it is positive outwards (distance increases as I go out)\n",
    "    r = Vector(-x, -y)\n",
    "    gravity = forceMag * r.hat()\n",
    "    \n",
    "    return gravity"
   ]
  },
  {
   "cell_type": "code",
   "execution_count": 48,
   "metadata": {},
   "outputs": [
    {
     "data": {
      "text/html": [
       "[-1.12904424e+08 -1.31910967e+06] kilogram meter/second<sup>2</sup>"
      ],
      "text/latex": [
       "$[-1.12904424e+08 -1.31910967e+06] \\frac{kilogram \\cdot meter}{second^{2}}$"
      ],
      "text/plain": [
       "<Quantity([-1.12904424e+08 -1.31910967e+06], 'kilogram * meter / second ** 2')>"
      ]
     },
     "execution_count": 48,
     "metadata": {},
     "output_type": "execute_result"
    }
   ],
   "source": [
    "universal_gravitation(init, system)"
   ]
  },
  {
   "cell_type": "code",
   "execution_count": 49,
   "metadata": {},
   "outputs": [],
   "source": [
    "def slope_func(init, dt, system):\n",
    "    x, y, v_x, v_y = init\n",
    "\n",
    "    unpack(system)\n",
    "    \n",
    "    gravity = universal_gravitation(init, system)\n",
    "    dxdt = v_x\n",
    "    dydt = 0\n",
    "    dvxdt = gravity[0]/ m_asteroid\n",
    "    dvydt = 0\n",
    "    \n",
    "    return dxdt, dydt, dvxdt, dvydt"
   ]
  },
  {
   "cell_type": "code",
   "execution_count": 50,
   "metadata": {},
   "outputs": [
    {
     "data": {
      "text/plain": [
       "(<Quantity(-25000.0, 'meter / second')>,\n",
       " 0,\n",
       " <Quantity(-0.001850892190713955, 'meter / second ** 2')>,\n",
       " 0)"
      ]
     },
     "execution_count": 50,
     "metadata": {},
     "output_type": "execute_result"
    }
   ],
   "source": [
    "slope_func(init, 0, system)"
   ]
  },
  {
   "cell_type": "code",
   "execution_count": 51,
   "metadata": {},
   "outputs": [],
   "source": [
    "def event_func(init, dt, system):\n",
    "    x, y, v_x, v_y = init\n",
    "    r = Vector(x,y)\n",
    "    \n",
    "    return r.x - system.r_final # m"
   ]
  },
  {
   "cell_type": "code",
   "execution_count": 52,
   "metadata": {},
   "outputs": [
    {
     "data": {
      "text/html": [
       "457628815.0 meter"
      ],
      "text/latex": [
       "$457628815.0 meter$"
      ],
      "text/plain": [
       "<Quantity(457628815.0, 'meter')>"
      ]
     },
     "execution_count": 52,
     "metadata": {},
     "output_type": "execute_result"
    }
   ],
   "source": [
    "event_func(init, 0, system)"
   ]
  },
  {
   "cell_type": "code",
   "execution_count": 53,
   "metadata": {},
   "outputs": [
    {
     "data": {
      "text/html": [
       "<div>\n",
       "<style scoped>\n",
       "    .dataframe tbody tr th:only-of-type {\n",
       "        vertical-align: middle;\n",
       "    }\n",
       "\n",
       "    .dataframe tbody tr th {\n",
       "        vertical-align: top;\n",
       "    }\n",
       "\n",
       "    .dataframe thead th {\n",
       "        text-align: right;\n",
       "    }\n",
       "</style>\n",
       "<table border=\"1\" class=\"dataframe\">\n",
       "  <thead>\n",
       "    <tr style=\"text-align: right;\">\n",
       "      <th></th>\n",
       "      <th>values</th>\n",
       "    </tr>\n",
       "  </thead>\n",
       "  <tbody>\n",
       "    <tr>\n",
       "      <th>sol</th>\n",
       "      <td>None</td>\n",
       "    </tr>\n",
       "    <tr>\n",
       "      <th>t_events</th>\n",
       "      <td>[[18213.153174550844]]</td>\n",
       "    </tr>\n",
       "    <tr>\n",
       "      <th>nfev</th>\n",
       "      <td>50</td>\n",
       "    </tr>\n",
       "    <tr>\n",
       "      <th>njev</th>\n",
       "      <td>0</td>\n",
       "    </tr>\n",
       "    <tr>\n",
       "      <th>nlu</th>\n",
       "      <td>0</td>\n",
       "    </tr>\n",
       "    <tr>\n",
       "      <th>status</th>\n",
       "      <td>1</td>\n",
       "    </tr>\n",
       "    <tr>\n",
       "      <th>message</th>\n",
       "      <td>A termination event occurred.</td>\n",
       "    </tr>\n",
       "    <tr>\n",
       "      <th>success</th>\n",
       "      <td>True</td>\n",
       "    </tr>\n",
       "  </tbody>\n",
       "</table>\n",
       "</div>"
      ],
      "text/plain": [
       "sol                                  None\n",
       "t_events           [[18213.153174550844]]\n",
       "nfev                                   50\n",
       "njev                                    0\n",
       "nlu                                     0\n",
       "status                                  1\n",
       "message     A termination event occurred.\n",
       "success                              True\n",
       "dtype: object"
      ]
     },
     "execution_count": 53,
     "metadata": {},
     "output_type": "execute_result"
    }
   ],
   "source": [
    "results, details = run_ode_solver(system, slope_func, events=event_func)\n",
    "details"
   ]
  },
  {
   "cell_type": "code",
   "execution_count": 54,
   "metadata": {},
   "outputs": [
    {
     "data": {
      "text/html": [
       "<div>\n",
       "<style scoped>\n",
       "    .dataframe tbody tr th:only-of-type {\n",
       "        vertical-align: middle;\n",
       "    }\n",
       "\n",
       "    .dataframe tbody tr th {\n",
       "        vertical-align: top;\n",
       "    }\n",
       "\n",
       "    .dataframe thead th {\n",
       "        text-align: right;\n",
       "    }\n",
       "</style>\n",
       "<table border=\"1\" class=\"dataframe\">\n",
       "  <thead>\n",
       "    <tr style=\"text-align: right;\">\n",
       "      <th></th>\n",
       "      <th>x</th>\n",
       "      <th>y</th>\n",
       "      <th>v_x</th>\n",
       "      <th>v_y</th>\n",
       "    </tr>\n",
       "  </thead>\n",
       "  <tbody>\n",
       "    <tr>\n",
       "      <th>0.000000</th>\n",
       "      <td>4.640000e+08</td>\n",
       "      <td>5.421106e+06</td>\n",
       "      <td>-25000.000000</td>\n",
       "      <td>0.0</td>\n",
       "    </tr>\n",
       "    <tr>\n",
       "      <th>0.820203</th>\n",
       "      <td>4.639795e+08</td>\n",
       "      <td>5.421106e+06</td>\n",
       "      <td>-25000.001518</td>\n",
       "      <td>0.0</td>\n",
       "    </tr>\n",
       "    <tr>\n",
       "      <th>9.022236</th>\n",
       "      <td>4.637744e+08</td>\n",
       "      <td>5.421106e+06</td>\n",
       "      <td>-25000.016707</td>\n",
       "      <td>0.0</td>\n",
       "    </tr>\n",
       "    <tr>\n",
       "      <th>91.042566</th>\n",
       "      <td>4.617239e+08</td>\n",
       "      <td>5.421106e+06</td>\n",
       "      <td>-25000.169340</td>\n",
       "      <td>0.0</td>\n",
       "    </tr>\n",
       "    <tr>\n",
       "      <th>911.245865</th>\n",
       "      <td>4.412181e+08</td>\n",
       "      <td>5.421106e+06</td>\n",
       "      <td>-25001.773685</td>\n",
       "      <td>0.0</td>\n",
       "    </tr>\n",
       "    <tr>\n",
       "      <th>9113.278850</th>\n",
       "      <td>2.360505e+08</td>\n",
       "      <td>5.421106e+06</td>\n",
       "      <td>-25033.148562</td>\n",
       "      <td>0.0</td>\n",
       "    </tr>\n",
       "    <tr>\n",
       "      <th>18213.153175</th>\n",
       "      <td>6.371185e+06</td>\n",
       "      <td>5.421106e+06</td>\n",
       "      <td>-25512.207195</td>\n",
       "      <td>0.0</td>\n",
       "    </tr>\n",
       "  </tbody>\n",
       "</table>\n",
       "</div>"
      ],
      "text/plain": [
       "                         x             y           v_x  v_y\n",
       "0.000000      4.640000e+08  5.421106e+06 -25000.000000  0.0\n",
       "0.820203      4.639795e+08  5.421106e+06 -25000.001518  0.0\n",
       "9.022236      4.637744e+08  5.421106e+06 -25000.016707  0.0\n",
       "91.042566     4.617239e+08  5.421106e+06 -25000.169340  0.0\n",
       "911.245865    4.412181e+08  5.421106e+06 -25001.773685  0.0\n",
       "9113.278850   2.360505e+08  5.421106e+06 -25033.148562  0.0\n",
       "18213.153175  6.371185e+06  5.421106e+06 -25512.207195  0.0"
      ]
     },
     "execution_count": 54,
     "metadata": {},
     "output_type": "execute_result"
    }
   ],
   "source": [
    "results"
   ]
  },
  {
   "cell_type": "code",
   "execution_count": 55,
   "metadata": {},
   "outputs": [
    {
     "data": {
      "text/html": [
       "-25512.20719498253 meter/second"
      ],
      "text/latex": [
       "$-25512.20719498253 \\frac{meter}{second}$"
      ],
      "text/plain": [
       "<Quantity(-25512.20719498253, 'meter / second')>"
      ]
     },
     "execution_count": 55,
     "metadata": {},
     "output_type": "execute_result"
    }
   ],
   "source": [
    "v_at_collision = get_last_value(results.v_x) * m/s"
   ]
  },
  {
   "cell_type": "code",
   "execution_count": 56,
   "metadata": {},
   "outputs": [
    {
     "data": {
      "text/plain": [
       "[<matplotlib.lines.Line2D at 0x2e04d1f98d0>]"
      ]
     },
     "execution_count": 56,
     "metadata": {},
     "output_type": "execute_result"
    },
    {
     "data": {
      "image/png": "[encoded data removed]",
      "text/plain": [
       "<Figure size 432x288 with 1 Axes>"
      ]
     },
     "metadata": {},
     "output_type": "display_data"
    }
   ],
   "source": [
    "x = results.x\n",
    "y = results.y\n",
    "\n",
    "plot(x,y)"
   ]
  },
  {
   "cell_type": "markdown",
   "metadata": {},
   "source": [
    "# Second Part - Math"
   ]
  },
  {
   "cell_type": "markdown",
   "metadata": {},
   "source": [
    "def make_system(init):\n",
    "    unpack(system)\n",
    "    \n",
    "    V_Collision = v_at_collision\n",
    "    \n",
    "Maybe ;)"
   ]
  },
  {
   "cell_type": "markdown",
   "metadata": {},
   "source": [
    "\"\"\"\n",
    "Function that converts:\n",
    "Diameter of the asteroid -> Volume of the asteroid\n",
    "Volume of the asteroid -> Mass of the asteroid\n",
    "\"\"\"\n",
    "\n",
    "def D_to_mass(D_asteroid, system):\n",
    "    unpack(system)\n",
    "    \n",
    "    volume_asteroid = 4/3 * pi * (D_asteroid/2)**3\n",
    "    m_asteroid = density_asteroid * volume_asteroid\n",
    "    \n",
    "    return m_asteroid"
   ]
  },
  {
   "cell_type": "code",
   "execution_count": 60,
   "metadata": {},
   "outputs": [],
   "source": [
    "def make_system(ang_asteroid):\n",
    "    \n",
    "    return System(init=init,\n",
    "                  m_earth = 5.972e24 * kg,\n",
    "                  c_earth = 40.075e6 * m,\n",
    "                  Vol_earth = 1.08320692e21 * m**3,\n",
    "                  init_w_earth = 7.2921159e-5 * rad/s ,\n",
    "                  density_asteroid = 3200 * kg / m**3,\n",
    "                  m_asteroid = 6.1e10 * kg,\n",
    "            \n",
    "                  G=6.674e-11 * m**3 * kg **-1 * s **-2, \n",
    "                  striking_angle = ang_asteroid,\n",
    "               \n",
    "                  r_final=r_asteroid + r_earth,\n",
    "                  t_0=0,\n",
    "                  t_end=1e10\n",
    "                 )"
   ]
  },
  {
   "cell_type": "code",
   "execution_count": 61,
   "metadata": {},
   "outputs": [],
   "source": [
    "\"\"\"\n",
    "Function that converts:\n",
    "energy from the asteroid -> angular velocity of the earth\n",
    "\"\"\"\n",
    "\n",
    "def energy_to_velocity(system, v_at_collision):\n",
    "    #r_asteroid = (D_asteroid * m) / 2\n",
    "    unpack(system)\n",
    "    \n",
    "    inertia_earth = (2/5 * m_earth * (r_earth**2))\n",
    "    inertia_asteroid = (2/5 * m_asteroid * (r_asteroid**2))\n",
    "    inertia_both = inertia_earth + inertia_asteroid\n",
    "    \n",
    "    final_w_earth = sqrt(((m_asteroid * (v_at_collision**2)) + (inertia_earth * (init_w_earth**2))) / inertia_both) \n",
    "    print(init_w_earth)\n",
    "    #sqrt(  ((m_asteroid * (v_at_collision**2))  \n",
    "    return final_w_earth #rad/sec"
   ]
  },
  {
   "cell_type": "code",
   "execution_count": 62,
   "metadata": {},
   "outputs": [
    {
     "name": "stdout",
     "output_type": "stream",
     "text": [
      "7.2921159e-05 radian / second\n"
     ]
    },
    {
     "data": {
      "text/html": [
       "7.292115900280768e-05 1/second"
      ],
      "text/latex": [
       "$7.292115900280768e-05 \\frac{1}{second}$"
      ],
      "text/plain": [
       "<Quantity(7.292115900280768e-05, '1 / second')>"
      ]
     },
     "execution_count": 62,
     "metadata": {},
     "output_type": "execute_result"
    }
   ],
   "source": [
    "w = energy_to_velocity(system, v_at_collision)"
   ]
  },
  {
   "cell_type": "code",
   "execution_count": 63,
   "metadata": {},
   "outputs": [],
   "source": [
    "def time_for_revolution(w_earth, system):\n",
    "    unpack(system)\n",
    "    \n",
    "    time = c_earth / (r_earth * w_earth) \n",
    "    #print(time)\n",
    "    \n",
    "    return time"
   ]
  },
  {
   "cell_type": "code",
   "execution_count": 64,
   "metadata": {},
   "outputs": [
    {
     "data": {
      "text/html": [
       "86260.57788100872 second"
      ],
      "text/latex": [
       "$86260.57788100872 second$"
      ],
      "text/plain": [
       "<Quantity(86260.57788100872, 'second')>"
      ]
     },
     "execution_count": 64,
     "metadata": {},
     "output_type": "execute_result"
    }
   ],
   "source": [
    "output = time_for_revolution(w, system)"
   ]
  },
  {
   "cell_type": "code",
   "execution_count": 65,
   "metadata": {},
   "outputs": [
    {
     "data": {
      "text/html": [
       "23.961271633613535 hour"
      ],
      "text/latex": [
       "$23.961271633613535 hour$"
      ],
      "text/plain": [
       "<Quantity(23.961271633613535, 'hour')>"
      ]
     },
     "execution_count": 65,
     "metadata": {},
     "output_type": "execute_result"
    }
   ],
   "source": [
    "output.to(UNITS.hours)"
   ]
  },
  {
   "cell_type": "code",
   "execution_count": 66,
   "metadata": {},
   "outputs": [
    {
     "name": "stdout",
     "output_type": "stream",
     "text": [
      "7.2921159e-05 radian / second\n",
      "7.2921159e-05 radian / second\n",
      "7.2921159e-05 radian / second\n",
      "7.2921159e-05 radian / second\n",
      "7.2921159e-05 radian / second\n",
      "7.2921159e-05 radian / second\n",
      "7.2921159e-05 radian / second\n",
      "7.2921159e-05 radian / second\n",
      "7.2921159e-05 radian / second\n",
      "7.2921159e-05 radian / second\n",
      "0    23.961271633613535 hour\n",
      "1    23.961271633613535 hour\n",
      "2    23.961271633613535 hour\n",
      "3    23.961271633613535 hour\n",
      "4    23.961271633613535 hour\n",
      "5    23.961271633613535 hour\n",
      "6    23.961271633613535 hour\n",
      "7    23.961271633613535 hour\n",
      "8    23.961271633613535 hour\n",
      "9    23.961271633613535 hour\n",
      "dtype: object\n"
     ]
    }
   ],
   "source": [
    "#making a sweepseries of angles\n",
    "\n",
    "dA = 10 # deg\n",
    "ang_asteroid = linrange(0, 90, dA, endpoint = True) # m in diameter\n",
    "\n",
    "\n",
    "sweep_angle = SweepSeries()\n",
    "\n",
    "for i in range(len(ang_asteroid)):\n",
    "    system = make_system(ang_asteroid[i])\n",
    "    \n",
    "    results, details = run_ode_solver(system, slope_func, events=event_func)\n",
    "    v_at_collision = get_last_value(results.v_x) * m/s\n",
    "    w = energy_to_velocity(system, v_at_collision)\n",
    "    output = time_for_revolution(w, system)\n",
    "    hrs = output.to(UNITS.hours)\n",
    "    \n",
    "    \n",
    "    sweep_angle[i] = hrs\n",
    "    \n",
    "    \n",
    "print(sweep_angle)"
   ]
  }
 ],
 "metadata": {
  "kernelspec": {
   "display_name": "Python 3",
   "language": "python",
   "name": "python3"
  },
  "language_info": {
   "codemirror_mode": {
    "name": "ipython",
    "version": 3
   },
   "file_extension": ".py",
   "mimetype": "text/x-python",
   "name": "python",
   "nbconvert_exporter": "python",
   "pygments_lexer": "ipython3",
   "version": "3.6.6"
  }
 },
 "nbformat": 4,
 "nbformat_minor": 2
}
