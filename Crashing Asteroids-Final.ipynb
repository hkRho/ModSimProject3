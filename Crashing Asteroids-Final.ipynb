{
 "cells": [
  {
   "cell_type": "markdown",
   "metadata": {},
   "source": [
    "# Spinning Earth due to an Asteroid Impact\n",
    "\n",
    "ModSim Project 3\n",
    "\n",
    "Kristtiya Guerra, HK Rho"
   ]
  },
  {
   "cell_type": "code",
   "execution_count": 1,
   "metadata": {},
   "outputs": [],
   "source": [
    "# Configure Jupyter so figures appear in the notebook\n",
    "%matplotlib inline\n",
    "\n",
    "# Configure Jupyter to display the assigned value after an assignment\n",
    "%config InteractiveShell.ast_node_interactivity='last_expr_or_assign'\n",
    "\n",
    "# import functions from the modsim library\n",
    "from modsim import *\n",
    "import random\n",
    "import decimal\n",
    "import math"
   ]
  },
  {
   "cell_type": "code",
   "execution_count": 2,
   "metadata": {},
   "outputs": [],
   "source": [
    "# Here are the units we'll need\n",
    "\n",
    "s = UNITS.second\n",
    "N = UNITS.newton\n",
    "kg = UNITS.kilogram\n",
    "m = UNITS.meter\n",
    "d = UNITS.degrees\n",
    "rad = UNITS.radians;"
   ]
  },
  {
   "cell_type": "markdown",
   "metadata": {},
   "source": [
    "ASTEROID: 99942Apophis"
   ]
  },
  {
   "cell_type": "markdown",
   "metadata": {},
   "source": [
    "# First Part - Until Collision"
   ]
  },
  {
   "cell_type": "code",
   "execution_count": 3,
   "metadata": {},
   "outputs": [
    {
     "data": {
      "text/html": [
       "<div>\n",
       "<style scoped>\n",
       "    .dataframe tbody tr th:only-of-type {\n",
       "        vertical-align: middle;\n",
       "    }\n",
       "\n",
       "    .dataframe tbody tr th {\n",
       "        vertical-align: top;\n",
       "    }\n",
       "\n",
       "    .dataframe thead th {\n",
       "        text-align: right;\n",
       "    }\n",
       "</style>\n",
       "<table border=\"1\" class=\"dataframe\">\n",
       "  <thead>\n",
       "    <tr style=\"text-align: right;\">\n",
       "      <th></th>\n",
       "      <th>values</th>\n",
       "    </tr>\n",
       "  </thead>\n",
       "  <tbody>\n",
       "    <tr>\n",
       "      <th>x</th>\n",
       "      <td>464000000.0 meter</td>\n",
       "    </tr>\n",
       "    <tr>\n",
       "      <th>y</th>\n",
       "      <td>0 meter</td>\n",
       "    </tr>\n",
       "    <tr>\n",
       "      <th>v_x</th>\n",
       "      <td>-25000.0 meter / second</td>\n",
       "    </tr>\n",
       "    <tr>\n",
       "      <th>v_y</th>\n",
       "      <td>0.0 meter / second</td>\n",
       "    </tr>\n",
       "  </tbody>\n",
       "</table>\n",
       "</div>"
      ],
      "text/plain": [
       "x            464000000.0 meter\n",
       "y                      0 meter\n",
       "v_x    -25000.0 meter / second\n",
       "v_y         0.0 meter / second\n",
       "dtype: object"
      ]
     },
     "execution_count": 3,
     "metadata": {},
     "output_type": "execute_result"
    }
   ],
   "source": [
    "# initializing the (x,y) of the asteroid\n",
    "x0 = 4.64e8\n",
    "y0 = 0\n",
    "\n",
    "\n",
    "# make an initial state that includes the position and the velocity of the asteroid\n",
    "init = State(x = x0 * m, \n",
    "             y = y0 * m, \n",
    "             v_x = -25000 * m/s, # m/s - X Velocity of Asteroid\n",
    "             v_y = 0 * m/s, # m/s - Y Velocity of Asteroid\n",
    "             )"
   ]
  },
  {
   "cell_type": "code",
   "execution_count": 4,
   "metadata": {},
   "outputs": [
    {
     "data": {
      "text/html": [
       "<div>\n",
       "<style scoped>\n",
       "    .dataframe tbody tr th:only-of-type {\n",
       "        vertical-align: middle;\n",
       "    }\n",
       "\n",
       "    .dataframe tbody tr th {\n",
       "        vertical-align: top;\n",
       "    }\n",
       "\n",
       "    .dataframe thead th {\n",
       "        text-align: right;\n",
       "    }\n",
       "</style>\n",
       "<table border=\"1\" class=\"dataframe\">\n",
       "  <thead>\n",
       "    <tr style=\"text-align: right;\">\n",
       "      <th></th>\n",
       "      <th>values</th>\n",
       "    </tr>\n",
       "  </thead>\n",
       "  <tbody>\n",
       "    <tr>\n",
       "      <th>init</th>\n",
       "      <td>x            464000000.0 meter\n",
       "y              ...</td>\n",
       "    </tr>\n",
       "    <tr>\n",
       "      <th>m_earth</th>\n",
       "      <td>5.972e+24 kilogram</td>\n",
       "    </tr>\n",
       "    <tr>\n",
       "      <th>c_earth</th>\n",
       "      <td>40075000.0 meter</td>\n",
       "    </tr>\n",
       "    <tr>\n",
       "      <th>Vol_earth</th>\n",
       "      <td>1.08320692e+21 meter ** 3</td>\n",
       "    </tr>\n",
       "    <tr>\n",
       "      <th>init_w_earth</th>\n",
       "      <td>7.2921159e-05 radian / second</td>\n",
       "    </tr>\n",
       "    <tr>\n",
       "      <th>density_asteroid</th>\n",
       "      <td>3200.0 kilogram / meter ** 3</td>\n",
       "    </tr>\n",
       "    <tr>\n",
       "      <th>m_asteroid</th>\n",
       "      <td>2.67e+20 kilogram</td>\n",
       "    </tr>\n",
       "    <tr>\n",
       "      <th>G</th>\n",
       "      <td>6.674e-11 meter ** 3 / kilogram / second ** 2</td>\n",
       "    </tr>\n",
       "    <tr>\n",
       "      <th>striking_angle</th>\n",
       "      <td>45 degree</td>\n",
       "    </tr>\n",
       "    <tr>\n",
       "      <th>r_final</th>\n",
       "      <td>6844174.136 meter</td>\n",
       "    </tr>\n",
       "    <tr>\n",
       "      <th>t_0</th>\n",
       "      <td>0</td>\n",
       "    </tr>\n",
       "    <tr>\n",
       "      <th>t_end</th>\n",
       "      <td>1e+10</td>\n",
       "    </tr>\n",
       "  </tbody>\n",
       "</table>\n",
       "</div>"
      ],
      "text/plain": [
       "init                x            464000000.0 meter\n",
       "y              ...\n",
       "m_earth                                            5.972e+24 kilogram\n",
       "c_earth                                              40075000.0 meter\n",
       "Vol_earth                                   1.08320692e+21 meter ** 3\n",
       "init_w_earth                            7.2921159e-05 radian / second\n",
       "density_asteroid                         3200.0 kilogram / meter ** 3\n",
       "m_asteroid                                          2.67e+20 kilogram\n",
       "G                       6.674e-11 meter ** 3 / kilogram / second ** 2\n",
       "striking_angle                                              45 degree\n",
       "r_final                                             6844174.136 meter\n",
       "t_0                                                                 0\n",
       "t_end                                                           1e+10\n",
       "dtype: object"
      ]
     },
     "execution_count": 4,
     "metadata": {},
     "output_type": "execute_result"
    }
   ],
   "source": [
    "r_asteroid = 473174.136 * m\n",
    "r_earth = 6.371e6*m \n",
    "\n",
    "system = System(init=init,\n",
    "                \n",
    "                m_earth = 5.972e24 * kg,\n",
    "                c_earth = 40.075e6 * m,\n",
    "                Vol_earth = 1.08320692e21 * m**3,\n",
    "                init_w_earth = 7.2921159e-5 * rad/s,\n",
    "                \n",
    "                density_asteroid = 3200 * kg / m**3,\n",
    "                m_asteroid = 2.67e20 * kg,\n",
    "            \n",
    "                G=6.674e-11 * m**3 * kg **-1 * s **-2, \n",
    "                striking_angle = 45 * d,\n",
    "               \n",
    "                r_final=r_asteroid + r_earth,\n",
    "                t_0=0,\n",
    "                t_end=1e10\n",
    "                )\n"
   ]
  },
  {
   "cell_type": "code",
   "execution_count": 5,
   "metadata": {},
   "outputs": [],
   "source": [
    "def y_dependingOn_angle(angle):\n",
    "    \"\"\"\n",
    "    Computes the y position of the asteroid depending on the angle of collision\n",
    "    \"\"\"\n",
    "    \n",
    "    y = r_earth * math.sin(angle)\n",
    "    \n",
    "    return y"
   ]
  },
  {
   "cell_type": "code",
   "execution_count": 6,
   "metadata": {},
   "outputs": [
    {
     "data": {
      "text/html": [
       "4504977.302939494 meter"
      ],
      "text/latex": [
       "$4504977.302939494 meter$"
      ],
      "text/plain": [
       "<Quantity(4504977.302939494, 'meter')>"
      ]
     },
     "execution_count": 6,
     "metadata": {},
     "output_type": "execute_result"
    }
   ],
   "source": [
    "y = y_dependingOn_angle(system.striking_angle)"
   ]
  },
  {
   "cell_type": "code",
   "execution_count": 7,
   "metadata": {},
   "outputs": [],
   "source": [
    "def universal_gravitation(init, system):\n",
    "    \"\"\"Computes gravitational force between Asteroid and Earth.\n",
    "    \"\"\"\n",
    "    x, y, v_x, v_y = init\n",
    "    unpack(system)\n",
    "\n",
    "    forceMag = G * m_earth * m_asteroid / (x**2 + y**2)\n",
    "    #negative because it is positive outwards (distance increases as I go out)\n",
    "    r = Vector(-x, -y)\n",
    "    gravity = forceMag * r.hat()\n",
    "    \n",
    "    return gravity"
   ]
  },
  {
   "cell_type": "code",
   "execution_count": 8,
   "metadata": {},
   "outputs": [
    {
     "data": {
      "text/html": [
       "[-4.94289405e+17  0.00000000e+00] kilogram meter/second<sup>2</sup>"
      ],
      "text/latex": [
       "$[-4.94289405e+17  0.00000000e+00] \\frac{kilogram \\cdot meter}{second^{2}}$"
      ],
      "text/plain": [
       "<Quantity([-4.94289405e+17  0.00000000e+00], 'kilogram * meter / second ** 2')>"
      ]
     },
     "execution_count": 8,
     "metadata": {},
     "output_type": "execute_result"
    }
   ],
   "source": [
    "universal_gravitation(init, system)"
   ]
  },
  {
   "cell_type": "code",
   "execution_count": 9,
   "metadata": {},
   "outputs": [],
   "source": [
    "def slope_func(init, dt, system):\n",
    "    x, y, v_x, v_y = init\n",
    "\n",
    "    unpack(system)\n",
    "    \n",
    "    gravity = universal_gravitation(init, system)\n",
    "    dxdt = v_x\n",
    "    dydt = 0\n",
    "    dvxdt = gravity[0]/ m_asteroid\n",
    "    dvydt = 0\n",
    "    \n",
    "    return dxdt, dydt, dvxdt, dvydt"
   ]
  },
  {
   "cell_type": "code",
   "execution_count": 10,
   "metadata": {},
   "outputs": [
    {
     "data": {
      "text/plain": [
       "(<Quantity(-25000.0, 'meter / second')>,\n",
       " 0,\n",
       " <Quantity(-0.0018512711801426875, 'meter / second ** 2')>,\n",
       " 0)"
      ]
     },
     "execution_count": 10,
     "metadata": {},
     "output_type": "execute_result"
    }
   ],
   "source": [
    "slope_func(init, 0, system)"
   ]
  },
  {
   "cell_type": "code",
   "execution_count": 11,
   "metadata": {},
   "outputs": [],
   "source": [
    "def event_func(init, dt, system):\n",
    "    \n",
    "    x, y, v_x, v_y = init\n",
    "    r = Vector(x,y)\n",
    "    \n",
    "    # stops run simulation when the asteroid comes into contact with earth's surface\n",
    "    return r.x - system.r_final # m"
   ]
  },
  {
   "cell_type": "code",
   "execution_count": 12,
   "metadata": {},
   "outputs": [
    {
     "data": {
      "text/html": [
       "457155825.864 meter"
      ],
      "text/latex": [
       "$457155825.864 meter$"
      ],
      "text/plain": [
       "<Quantity(457155825.864, 'meter')>"
      ]
     },
     "execution_count": 12,
     "metadata": {},
     "output_type": "execute_result"
    }
   ],
   "source": [
    "event_func(init, 0, system)"
   ]
  },
  {
   "cell_type": "code",
   "execution_count": 13,
   "metadata": {},
   "outputs": [
    {
     "data": {
      "text/html": [
       "<div>\n",
       "<style scoped>\n",
       "    .dataframe tbody tr th:only-of-type {\n",
       "        vertical-align: middle;\n",
       "    }\n",
       "\n",
       "    .dataframe tbody tr th {\n",
       "        vertical-align: top;\n",
       "    }\n",
       "\n",
       "    .dataframe thead th {\n",
       "        text-align: right;\n",
       "    }\n",
       "</style>\n",
       "<table border=\"1\" class=\"dataframe\">\n",
       "  <thead>\n",
       "    <tr style=\"text-align: right;\">\n",
       "      <th></th>\n",
       "      <th>values</th>\n",
       "    </tr>\n",
       "  </thead>\n",
       "  <tbody>\n",
       "    <tr>\n",
       "      <th>sol</th>\n",
       "      <td>None</td>\n",
       "    </tr>\n",
       "    <tr>\n",
       "      <th>t_events</th>\n",
       "      <td>[[18208.805245839594]]</td>\n",
       "    </tr>\n",
       "    <tr>\n",
       "      <th>nfev</th>\n",
       "      <td>50</td>\n",
       "    </tr>\n",
       "    <tr>\n",
       "      <th>njev</th>\n",
       "      <td>0</td>\n",
       "    </tr>\n",
       "    <tr>\n",
       "      <th>nlu</th>\n",
       "      <td>0</td>\n",
       "    </tr>\n",
       "    <tr>\n",
       "      <th>status</th>\n",
       "      <td>1</td>\n",
       "    </tr>\n",
       "    <tr>\n",
       "      <th>message</th>\n",
       "      <td>A termination event occurred.</td>\n",
       "    </tr>\n",
       "    <tr>\n",
       "      <th>success</th>\n",
       "      <td>True</td>\n",
       "    </tr>\n",
       "  </tbody>\n",
       "</table>\n",
       "</div>"
      ],
      "text/plain": [
       "sol                                  None\n",
       "t_events           [[18208.805245839594]]\n",
       "nfev                                   50\n",
       "njev                                    0\n",
       "nlu                                     0\n",
       "status                                  1\n",
       "message     A termination event occurred.\n",
       "success                              True\n",
       "dtype: object"
      ]
     },
     "execution_count": 13,
     "metadata": {},
     "output_type": "execute_result"
    }
   ],
   "source": [
    "results, details = run_ode_solver(system, slope_func, events=event_func)\n",
    "details"
   ]
  },
  {
   "cell_type": "code",
   "execution_count": 14,
   "metadata": {},
   "outputs": [
    {
     "data": {
      "text/html": [
       "<div>\n",
       "<style scoped>\n",
       "    .dataframe tbody tr th:only-of-type {\n",
       "        vertical-align: middle;\n",
       "    }\n",
       "\n",
       "    .dataframe tbody tr th {\n",
       "        vertical-align: top;\n",
       "    }\n",
       "\n",
       "    .dataframe thead th {\n",
       "        text-align: right;\n",
       "    }\n",
       "</style>\n",
       "<table border=\"1\" class=\"dataframe\">\n",
       "  <thead>\n",
       "    <tr style=\"text-align: right;\">\n",
       "      <th></th>\n",
       "      <th>x</th>\n",
       "      <th>y</th>\n",
       "      <th>v_x</th>\n",
       "      <th>v_y</th>\n",
       "    </tr>\n",
       "  </thead>\n",
       "  <tbody>\n",
       "    <tr>\n",
       "      <th>0.000000</th>\n",
       "      <td>4.640000e+08</td>\n",
       "      <td>0.0</td>\n",
       "      <td>-25000.000000</td>\n",
       "      <td>0.0</td>\n",
       "    </tr>\n",
       "    <tr>\n",
       "      <th>0.820203</th>\n",
       "      <td>4.639795e+08</td>\n",
       "      <td>0.0</td>\n",
       "      <td>-25000.001518</td>\n",
       "      <td>0.0</td>\n",
       "    </tr>\n",
       "    <tr>\n",
       "      <th>9.022236</th>\n",
       "      <td>4.637744e+08</td>\n",
       "      <td>0.0</td>\n",
       "      <td>-25000.016711</td>\n",
       "      <td>0.0</td>\n",
       "    </tr>\n",
       "    <tr>\n",
       "      <th>91.042566</th>\n",
       "      <td>4.617239e+08</td>\n",
       "      <td>0.0</td>\n",
       "      <td>-25000.169375</td>\n",
       "      <td>0.0</td>\n",
       "    </tr>\n",
       "    <tr>\n",
       "      <th>911.245865</th>\n",
       "      <td>4.412181e+08</td>\n",
       "      <td>0.0</td>\n",
       "      <td>-25001.774067</td>\n",
       "      <td>0.0</td>\n",
       "    </tr>\n",
       "    <tr>\n",
       "      <th>9113.278849</th>\n",
       "      <td>2.360505e+08</td>\n",
       "      <td>0.0</td>\n",
       "      <td>-25033.164047</td>\n",
       "      <td>0.0</td>\n",
       "    </tr>\n",
       "    <tr>\n",
       "      <th>18208.805246</th>\n",
       "      <td>6.844174e+06</td>\n",
       "      <td>0.0</td>\n",
       "      <td>-25405.385450</td>\n",
       "      <td>0.0</td>\n",
       "    </tr>\n",
       "  </tbody>\n",
       "</table>\n",
       "</div>"
      ],
      "text/plain": [
       "                         x    y           v_x  v_y\n",
       "0.000000      4.640000e+08  0.0 -25000.000000  0.0\n",
       "0.820203      4.639795e+08  0.0 -25000.001518  0.0\n",
       "9.022236      4.637744e+08  0.0 -25000.016711  0.0\n",
       "91.042566     4.617239e+08  0.0 -25000.169375  0.0\n",
       "911.245865    4.412181e+08  0.0 -25001.774067  0.0\n",
       "9113.278849   2.360505e+08  0.0 -25033.164047  0.0\n",
       "18208.805246  6.844174e+06  0.0 -25405.385450  0.0"
      ]
     },
     "execution_count": 14,
     "metadata": {},
     "output_type": "execute_result"
    }
   ],
   "source": [
    "results"
   ]
  },
  {
   "cell_type": "code",
   "execution_count": 15,
   "metadata": {},
   "outputs": [
    {
     "data": {
      "text/html": [
       "-25405.385450352966 meter/second"
      ],
      "text/latex": [
       "$-25405.385450352966 \\frac{meter}{second}$"
      ],
      "text/plain": [
       "<Quantity(-25405.385450352966, 'meter / second')>"
      ]
     },
     "execution_count": 15,
     "metadata": {},
     "output_type": "execute_result"
    }
   ],
   "source": [
    "v_at_collision = get_last_value(results.v_x) * m/s"
   ]
  },
  {
   "cell_type": "code",
   "execution_count": 16,
   "metadata": {},
   "outputs": [
    {
     "data": {
      "text/plain": [
       "[<matplotlib.lines.Line2D at 0x2129acaeba8>]"
      ]
     },
     "execution_count": 16,
     "metadata": {},
     "output_type": "execute_result"
    },
    {
     "data": {
      "image/png": "[encoded data removed]",
      "text/plain": [
       "<Figure size 432x288 with 1 Axes>"
      ]
     },
     "metadata": {},
     "output_type": "display_data"
    }
   ],
   "source": [
    "x = results.x\n",
    "y = results.y\n",
    "\n",
    "# used to check the trajectory of the asteroid\n",
    "plot(x,y)"
   ]
  },
  {
   "cell_type": "markdown",
   "metadata": {},
   "source": [
    "# Second Part - Math"
   ]
  },
  {
   "cell_type": "code",
   "execution_count": 17,
   "metadata": {},
   "outputs": [],
   "source": [
    "def make_system(ang_asteroid, y):\n",
    "    \n",
    "    x0 = 4.64e8\n",
    "    y0 = y\n",
    "\n",
    "    init = State(x = x0 * m, \n",
    "                 y = y0 * m, \n",
    "                 v_x = -25000 * m/s, # m/s - X Velocity of Asteroid\n",
    "                 v_y = 0 * m/s, # m/s - Y Velocity of Asteroid\n",
    "                 )\n",
    "    \n",
    "    return System(init=init,\n",
    "                  m_earth = 5.972e24 * kg,\n",
    "                  c_earth = 40.075e6 * m,\n",
    "                  Vol_earth = 1.08320692e21 * m**3,\n",
    "                  init_w_earth = 7.2921159e-5 * rad/s ,\n",
    "                  density_asteroid = 3200 * kg / m**3,\n",
    "                  m_asteroid = 2.67e20 * kg,\n",
    "            \n",
    "                  G=6.674e-11 * m**3 * kg **-1 * s **-2, \n",
    "                  striking_angle = ang_asteroid,\n",
    "               \n",
    "                  r_final=r_asteroid + r_earth,\n",
    "                  t_0=0,\n",
    "                  t_end=1e10\n",
    "                 )"
   ]
  },
  {
   "cell_type": "code",
   "execution_count": 18,
   "metadata": {},
   "outputs": [],
   "source": [
    "def energy_to_velocity(system, v_at_collision):\n",
    "    \"\"\"\n",
    "    Function that converts:\n",
    "    energy from the asteroid -> angular velocity of the earth\n",
    "    \"\"\"\n",
    "    \n",
    "    unpack(system)\n",
    "    \n",
    "    inertia_earth = (2/5 * m_earth * (r_earth**2))\n",
    "    inertia_asteroid = (2/5 * m_asteroid * (r_asteroid**2))\n",
    "    inertia_both = inertia_earth + inertia_asteroid\n",
    "    \n",
    "    final_w_earth = sqrt(((m_asteroid * (v_at_collision**2)) + (inertia_earth * (init_w_earth**2))) / inertia_both) \n",
    "\n",
    "    return final_w_earth #rad/sec"
   ]
  },
  {
   "cell_type": "code",
   "execution_count": 19,
   "metadata": {},
   "outputs": [
    {
     "data": {
      "text/html": [
       "8.423077064284763e-05 1/second"
      ],
      "text/latex": [
       "$8.423077064284763e-05 \\frac{1}{second}$"
      ],
      "text/plain": [
       "<Quantity(8.423077064284763e-05, '1 / second')>"
      ]
     },
     "execution_count": 19,
     "metadata": {},
     "output_type": "execute_result"
    }
   ],
   "source": [
    "w = energy_to_velocity(system, v_at_collision)"
   ]
  },
  {
   "cell_type": "code",
   "execution_count": 20,
   "metadata": {},
   "outputs": [],
   "source": [
    "def time_for_revolution(w_earth, system):\n",
    "    \"\"\"\n",
    "    Function that calculates the time it takes for earth \n",
    "    to spin depending on the changed angular velocity\n",
    "    \"\"\"\n",
    "    \n",
    "    unpack(system)\n",
    "    \n",
    "    time = c_earth / (r_earth * w_earth) \n",
    "    \n",
    "    return time"
   ]
  },
  {
   "cell_type": "code",
   "execution_count": 21,
   "metadata": {},
   "outputs": [
    {
     "data": {
      "text/html": [
       "74678.42532281567 second"
      ],
      "text/latex": [
       "$74678.42532281567 second$"
      ],
      "text/plain": [
       "<Quantity(74678.42532281567, 'second')>"
      ]
     },
     "execution_count": 21,
     "metadata": {},
     "output_type": "execute_result"
    }
   ],
   "source": [
    "output = time_for_revolution(w, system)"
   ]
  },
  {
   "cell_type": "code",
   "execution_count": 22,
   "metadata": {},
   "outputs": [
    {
     "data": {
      "text/html": [
       "20.744007034115466 hour"
      ],
      "text/latex": [
       "$20.744007034115466 hour$"
      ],
      "text/plain": [
       "<Quantity(20.744007034115466, 'hour')>"
      ]
     },
     "execution_count": 22,
     "metadata": {},
     "output_type": "execute_result"
    }
   ],
   "source": [
    "output.to(UNITS.hours)"
   ]
  },
  {
   "cell_type": "code",
   "execution_count": null,
   "metadata": {},
   "outputs": [],
   "source": []
  },
  {
   "cell_type": "markdown",
   "metadata": {},
   "source": [
    "# Sweeping Through the Different Angles"
   ]
  },
  {
   "cell_type": "markdown",
   "metadata": {},
   "source": [
    "Now that we know that the code is working, we will use sweepseries to see the time it takes earth to complete one revolution depending on the different angle the asteroid strikes earth at the moment of collision."
   ]
  },
  {
   "cell_type": "code",
   "execution_count": 23,
   "metadata": {},
   "outputs": [
    {
     "name": "stdout",
     "output_type": "stream",
     "text": [
      "-1.570796e+00    20.713491516148316 hour\n",
      "-1.308997e+00     20.71567607864414 hour\n",
      "-1.047198e+00     20.72151332404663 hour\n",
      "-7.853982e-01      20.7292163382837 hour\n",
      "-5.235988e-01     20.73667916338952 hour\n",
      "-2.617994e-01    20.742049097705966 hour\n",
      "-3.330669e-16    20.744007034115466 hour\n",
      " 2.617994e-01    20.742049097705966 hour\n",
      " 5.235988e-01     20.73667916338952 hour\n",
      " 7.853982e-01      20.7292163382837 hour\n",
      " 1.047198e+00     20.72151332404663 hour\n",
      " 1.308997e+00     20.71567607864414 hour\n",
      " 1.570796e+00    20.713491516148316 hour\n",
      "dtype: object\n"
     ]
    }
   ],
   "source": [
    "# making an array of different angles\n",
    "dA = math.pi / 12 # deg &PLZ EXPLAIN WHY WE USED RADIANS\n",
    "ang_asteroid = linrange(-math.pi / 2, math.pi / 2, dA, endpoint = True) # degrees\n",
    "\n",
    "# making a SweepSeries\n",
    "sweep_angle = SweepSeries()\n",
    "\n",
    "\n",
    "for i in range(len(ang_asteroid)):\n",
    "    #finds the initial y position that the asteroid has to be at to strike at the desired angle\n",
    "    y = y_dependingOn_angle(ang_asteroid[i])\n",
    "    system = make_system(ang_asteroid[i], y)\n",
    "    \n",
    "    results, details = run_ode_solver(system, slope_func, events=event_func)\n",
    "    \n",
    "    v_at_collision = get_last_value(results.v_x) * m/s\n",
    "    \n",
    "    w = energy_to_velocity(system, v_at_collision)\n",
    "    output = time_for_revolution(w, system)\n",
    "    hrs = output.to(UNITS.hours)\n",
    "    \n",
    "    \n",
    "    sweep_angle[ang_asteroid[i]] = hrs\n",
    "    \n",
    "    \n",
    "print(sweep_angle)"
   ]
  },
  {
   "cell_type": "code",
   "execution_count": 34,
   "metadata": {},
   "outputs": [
    {
     "data": {
      "image/png": "[encoded data removed]",
      "text/plain": [
       "<Figure size 432x288 with 1 Axes>"
      ]
     },
     "metadata": {},
     "output_type": "display_data"
    }
   ],
   "source": [
    "plot(sweep_angle)\n",
    "decorate(title=\"Effect of Asteroid Ceres' Impact Based on Vertical Angle\",\n",
    "xlabel='Angle (radians)',\n",
    "ylabel='Time (hours)')"
   ]
  },
  {
   "cell_type": "code",
   "execution_count": 25,
   "metadata": {},
   "outputs": [
    {
     "data": {
      "image/png": "[encoded data removed]",
      "text/plain": [
       "<Figure size 432x288 with 1 Axes>"
      ]
     },
     "metadata": {},
     "output_type": "display_data"
    }
   ],
   "source": [
    "plot(sweep_angle, \"*\")\n",
    "decorate(title=\"Effect of Asteroid Ceres' Impact Based on Vertical Angle\",\n",
    "xlabel='Angle (radians)',\n",
    "ylabel='Time (hours)')"
   ]
  },
  {
   "cell_type": "code",
   "execution_count": 26,
   "metadata": {},
   "outputs": [
    {
     "data": {
      "image/png": "[encoded data removed]",
      "text/plain": [
       "<Figure size 432x288 with 1 Axes>"
      ]
     },
     "metadata": {},
     "output_type": "display_data"
    }
   ],
   "source": [
    "plot(sweep_angle)\n",
    "plot(sweep_angle, \"*\")\n",
    "decorate(title=\"Effect of Asteroid Ceres' Impact Based on Vertical Angle\",\n",
    "xlabel='Angle (radians)',\n",
    "ylabel='Time (hours)')"
   ]
  },
  {
   "cell_type": "markdown",
   "metadata": {},
   "source": [
    "## 99942 Aphopis"
   ]
  },
  {
   "cell_type": "code",
   "execution_count": 35,
   "metadata": {},
   "outputs": [
    {
     "data": {
      "text/html": [
       "<div>\n",
       "<style scoped>\n",
       "    .dataframe tbody tr th:only-of-type {\n",
       "        vertical-align: middle;\n",
       "    }\n",
       "\n",
       "    .dataframe tbody tr th {\n",
       "        vertical-align: top;\n",
       "    }\n",
       "\n",
       "    .dataframe thead th {\n",
       "        text-align: right;\n",
       "    }\n",
       "</style>\n",
       "<table border=\"1\" class=\"dataframe\">\n",
       "  <thead>\n",
       "    <tr style=\"text-align: right;\">\n",
       "      <th></th>\n",
       "      <th>values</th>\n",
       "    </tr>\n",
       "  </thead>\n",
       "  <tbody>\n",
       "    <tr>\n",
       "      <th>init</th>\n",
       "      <td>x            464000000.0 meter\n",
       "y         63710...</td>\n",
       "    </tr>\n",
       "    <tr>\n",
       "      <th>m_earth</th>\n",
       "      <td>5.972e+24 kilogram</td>\n",
       "    </tr>\n",
       "    <tr>\n",
       "      <th>c_earth</th>\n",
       "      <td>40075000.0 meter</td>\n",
       "    </tr>\n",
       "    <tr>\n",
       "      <th>Vol_earth</th>\n",
       "      <td>1.08320692e+21 meter ** 3</td>\n",
       "    </tr>\n",
       "    <tr>\n",
       "      <th>init_w_earth</th>\n",
       "      <td>7.2921159e-05 radian / second</td>\n",
       "    </tr>\n",
       "    <tr>\n",
       "      <th>density_asteroid</th>\n",
       "      <td>3200.0 kilogram / meter ** 3</td>\n",
       "    </tr>\n",
       "    <tr>\n",
       "      <th>m_asteroid</th>\n",
       "      <td>26990000000 kilogram</td>\n",
       "    </tr>\n",
       "    <tr>\n",
       "      <th>G</th>\n",
       "      <td>6.674e-11 meter ** 3 / kilogram / second ** 2</td>\n",
       "    </tr>\n",
       "    <tr>\n",
       "      <th>r_final</th>\n",
       "      <td>6371185.0 meter</td>\n",
       "    </tr>\n",
       "    <tr>\n",
       "      <th>t_0</th>\n",
       "      <td>0</td>\n",
       "    </tr>\n",
       "    <tr>\n",
       "      <th>t_end</th>\n",
       "      <td>1e+10</td>\n",
       "    </tr>\n",
       "  </tbody>\n",
       "</table>\n",
       "</div>"
      ],
      "text/plain": [
       "init                x            464000000.0 meter\n",
       "y         63710...\n",
       "m_earth                                            5.972e+24 kilogram\n",
       "c_earth                                              40075000.0 meter\n",
       "Vol_earth                                   1.08320692e+21 meter ** 3\n",
       "init_w_earth                            7.2921159e-05 radian / second\n",
       "density_asteroid                         3200.0 kilogram / meter ** 3\n",
       "m_asteroid                                       26990000000 kilogram\n",
       "G                       6.674e-11 meter ** 3 / kilogram / second ** 2\n",
       "r_final                                               6371185.0 meter\n",
       "t_0                                                                 0\n",
       "t_end                                                           1e+10\n",
       "dtype: object"
      ]
     },
     "execution_count": 35,
     "metadata": {},
     "output_type": "execute_result"
    }
   ],
   "source": [
    "r_asteroid2 = 185 * m\n",
    "r_earth = 6.371e6 * m \n",
    "\n",
    "system2 = System(init=init,\n",
    "                m_earth = 5.972e24 * kg,\n",
    "                c_earth = 40.075e6 * m,\n",
    "                Vol_earth = 1.08320692e21 * m ** 3,\n",
    "                init_w_earth = 7.2921159e-5 * rad/s ,\n",
    "                density_asteroid = 3200 * kg / m ** 3,\n",
    "                m_asteroid = 26990000000 * kg,\n",
    "            \n",
    "                G=6.674e-11 * m**3 * kg **-1 * s **-2, \n",
    "               \n",
    "                r_final=r_asteroid2 + r_earth,\n",
    "                t_0=0,\n",
    "                t_end=1e10\n",
    "                )\n"
   ]
  },
  {
   "cell_type": "code",
   "execution_count": 36,
   "metadata": {},
   "outputs": [],
   "source": [
    "def make_system2(ang_asteroid, y):\n",
    "    \n",
    "    x0 = 4.64e8\n",
    "    y0 = y\n",
    "\n",
    "    init = State(x = x0 * m, \n",
    "                 y = y0 * m, \n",
    "                 v_x = -25000 * m/s, # m/s - X Velocity of Asteroid\n",
    "                 v_y = 0 * m/s, # m/s - Y Velocity of Asteroid\n",
    "                 )\n",
    "    \n",
    "    return System(init=init,\n",
    "                  m_earth = 5.972e24 * kg,\n",
    "                  c_earth = 40.075e6 * m,\n",
    "                  Vol_earth = 1.08320692e21 * m**3,\n",
    "                  init_w_earth = 7.2921159e-5 * rad/s ,\n",
    "                  density_asteroid = 3200 * kg / m**3,\n",
    "                  m_asteroid = 2.699e10 * kg,\n",
    "            \n",
    "                  G=6.674e-11 * m**3 * kg **-1 * s **-2, \n",
    "                  striking_angle = ang_asteroid,\n",
    "               \n",
    "                  r_final=r_asteroid + r_earth,\n",
    "                  t_0=0,\n",
    "                  t_end=1e10\n",
    "                 )"
   ]
  },
  {
   "cell_type": "code",
   "execution_count": 46,
   "metadata": {},
   "outputs": [
    {
     "name": "stdout",
     "output_type": "stream",
     "text": [
      "-1.570796e+00    23.961271634126522 hour\n",
      "-1.308997e+00    23.961271634126863 hour\n",
      "-1.047198e+00    23.961271634127783 hour\n",
      "-7.853982e-01    23.961271634128988 hour\n",
      "-5.235988e-01    23.961271634130156 hour\n",
      "-2.617994e-01    23.961271634130995 hour\n",
      "-3.330669e-16    23.961271634131304 hour\n",
      " 2.617994e-01    23.961271634130995 hour\n",
      " 5.235988e-01    23.961271634130156 hour\n",
      " 7.853982e-01    23.961271634128988 hour\n",
      " 1.047198e+00    23.961271634127783 hour\n",
      " 1.308997e+00    23.961271634126863 hour\n",
      " 1.570796e+00    23.961271634126522 hour\n",
      "dtype: object\n"
     ]
    }
   ],
   "source": [
    "dA = math.pi / 12 # deg\n",
    "ang_asteroid = linrange(- math.pi / 2, math.pi / 2, dA, endpoint = True) # degrees\n",
    "\n",
    "\n",
    "aphophis = SweepSeries()\n",
    "\n",
    "\n",
    "for i in range(len(ang_asteroid)):\n",
    "    y = y_dependingOn_angle(ang_asteroid[i])\n",
    "    system = make_system2(ang_asteroid[i], y)\n",
    "    \n",
    "    results, details = run_ode_solver(system, slope_func, events=event_func)\n",
    "    \n",
    "    v_at_collision = get_last_value(results.v_x) * m/s\n",
    "    \n",
    "    w = energy_to_velocity(system, v_at_collision)\n",
    "    output = time_for_revolution(w, system)\n",
    "    hrs = output.to(UNITS.hours)\n",
    "    \n",
    "    \n",
    "    aphophis[ang_asteroid[i]] = hrs\n",
    "    \n",
    "    \n",
    "print(aphophis)"
   ]
  },
  {
   "cell_type": "code",
   "execution_count": 48,
   "metadata": {},
   "outputs": [
    {
     "data": {
      "image/png": "[encoded data removed]",
      "text/plain": [
       "<Figure size 432x288 with 1 Axes>"
      ]
     },
     "metadata": {},
     "output_type": "display_data"
    }
   ],
   "source": [
    "plot(aphophis)\n",
    "decorate(title=\"Effect of  99942 Apophis Impact Based on Vertical Angle\",\n",
    "xlabel='Angle (radians)',\n",
    "ylabel='Time (hours)')"
   ]
  }
 ],
 "metadata": {
  "kernelspec": {
   "display_name": "Python 3",
   "language": "python",
   "name": "python3"
  },
  "language_info": {
   "codemirror_mode": {
    "name": "ipython",
    "version": 3
   },
   "file_extension": ".py",
   "mimetype": "text/x-python",
   "name": "python",
   "nbconvert_exporter": "python",
   "pygments_lexer": "ipython3",
   "version": "3.6.6"
  }
 },
 "nbformat": 4,
 "nbformat_minor": 2
}
